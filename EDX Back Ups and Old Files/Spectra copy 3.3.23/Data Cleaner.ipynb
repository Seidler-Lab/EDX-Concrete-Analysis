{
 "cells": [
  {
   "cell_type": "markdown",
   "id": "65a0034c-a472-47e9-88fd-2cac300ad899",
   "metadata": {},
   "source": [
    "# Purpose is to pull data from EDX Processed Data folder"
   ]
  },
  {
   "cell_type": "markdown",
   "id": "fd3868e3-4cab-4741-a758-d232e1f523c3",
   "metadata": {},
   "source": [
    "## I want it to go in 'Spectra - Samples' folder. I want the files to be named by the beam position (ex. '8.75' or 'background') and placed in sub folders named for the sample"
   ]
  },
  {
   "cell_type": "code",
   "execution_count": 71,
   "id": "35d61f17-3047-4898-8bd9-008fac8dd36d",
   "metadata": {},
   "outputs": [],
   "source": [
    "def spec_data_reader(direc, fname):\n",
    "    with open(direc + '/' + fname, 'r') as f:\n",
    "        flag = False\n",
    "        headers = []\n",
    "        for line in f:\n",
    "            data = line.split()\n",
    "            \n",
    "            if flag:\n",
    "                data = line.split('\\t')\n",
    "                for x in range(len(data)-1):\n",
    "                    headers[x].append(float(data[x]))\n",
    "                \n",
    "            if bool(data) == True and data[0] == '#Bins':\n",
    "                data = line.split('\\t')\n",
    "                for x in range(len(data)-1):\n",
    "                    headers.append([data[x]])\n",
    "                flag = True\n",
    "        f.close()\n",
    "        \n",
    "    n_len = len(fname)\n",
    "    name = fname[:(n_len-4)]\n",
    "    x_data = headers[1][1:]\n",
    "    background = headers[2][1:]\n",
    "    positions = []\n",
    "    spectrum = []\n",
    "    \n",
    "    for x in range(3, len(data)-1):\n",
    "        spectrum.append(headers[x][1:])\n",
    "        positions.append(abs(float(headers[x][0])))\n",
    "        \n",
    "    return name, x_data, positions, spectrum, background\n",
    "                \n",
    "# q = spec_data_reader('/Users/anthonygironda/GitHub_Projects/EDX/EDX Processed Data', 'High pH BL 60C 2d.txt')\n",
    "# #'High pH BL 60C 6d.txt')"
   ]
  },
  {
   "cell_type": "code",
   "execution_count": 72,
   "id": "a1c34fed-bd93-4d9e-b206-98d40dde8664",
   "metadata": {},
   "outputs": [],
   "source": [
    "def file_list(directory, ftype):\n",
    "    allflist = sorted(os.listdir(directory))\n",
    "    flistlen = len(allflist)\n",
    "    flist = []\n",
    "    for x in range(flistlen):\n",
    "        if allflist[x].endswith(str(ftype)):\n",
    "            flist.append(allflist[x])\n",
    "    return flist"
   ]
  },
  {
   "cell_type": "code",
   "execution_count": 73,
   "id": "dbfb051d-56bf-4999-a538-ac1a24218c22",
   "metadata": {},
   "outputs": [],
   "source": [
    "def spec_data_writer(data_dir, flist, new_parent_dir):\n",
    "    for x in range(len(flist)):\n",
    "        fname = flist[x]\n",
    "        dataset = spec_data_reader(data_dir, fname)\n",
    "        path = new_parent_dir + dataset[0] + '/'\n",
    "        \n",
    "        #background\n",
    "        with open(path + \"background.txt\", 'w') as txt_file:\n",
    "            for x in range(len(dataset[4])):\n",
    "                txt_file.write(str(dataset[4][x]) + '\\n')\n",
    "        txt_file.close()\n",
    "        \n",
    "        #energy\n",
    "        with open(path + \"energy.txt\", 'w') as txt_file:\n",
    "            for x in range(len(dataset[1])):\n",
    "                txt_file.write(str(dataset[1][x]) + '\\n')\n",
    "        txt_file.close()\n",
    "        \n",
    "        \n",
    "        #positions\n",
    "        for t in range(len(dataset[2])):\n",
    "            with open(path + str(dataset[2][t]) + \".txt\", 'w') as txt_file:\n",
    "                for v in range(len(dataset[3][t])):\n",
    "                    txt_file.write(str(dataset[3][t][v]) + '\\n')\n",
    "            txt_file.close()\n",
    "\n",
    "        \n",
    "    "
   ]
  },
  {
   "cell_type": "code",
   "execution_count": 74,
   "id": "f95f0c08-ef00-4bc0-9bee-a548ba33a9f8",
   "metadata": {},
   "outputs": [],
   "source": [
    "import os\n",
    "f_dir = 'EDX Processed Data'\n",
    "f_list = file_list(f_dir, 'txt')"
   ]
  },
  {
   "cell_type": "code",
   "execution_count": 77,
   "id": "bae9679d-1644-4328-9898-3374a26e5c11",
   "metadata": {},
   "outputs": [],
   "source": [
    "path = 'Spectra/Samples/'"
   ]
  },
  {
   "cell_type": "code",
   "execution_count": 76,
   "id": "886cda55-fb5e-4fc3-991a-4701222744e5",
   "metadata": {},
   "outputs": [],
   "source": [
    "spec_data_writer(f_dir, f_list, path)"
   ]
  },
  {
   "cell_type": "markdown",
   "id": "6940b486-6b6b-4b52-baed-c6acf7115ae4",
   "metadata": {},
   "source": [
    "# This worked great ^ I triple checked everything that the txt files were being stored and written right, they seem correct. Next, I want to tackle the cal scans we did at the beam line. That would be the LaB6, Calcite, and W/Mn Foils"
   ]
  },
  {
   "cell_type": "code",
   "execution_count": null,
   "id": "b1260486-6ea1-4386-b1ba-307c247da836",
   "metadata": {},
   "outputs": [],
   "source": [
    "f_dir = '\n",
    "path = 'Spectra/Calibration/'"
   ]
  }
 ],
 "metadata": {
  "kernelspec": {
   "display_name": "Python 3 (ipykernel)",
   "language": "python",
   "name": "python3"
  },
  "language_info": {
   "codemirror_mode": {
    "name": "ipython",
    "version": 3
   },
   "file_extension": ".py",
   "mimetype": "text/x-python",
   "name": "python",
   "nbconvert_exporter": "python",
   "pygments_lexer": "ipython3",
   "version": "3.10.6"
  }
 },
 "nbformat": 4,
 "nbformat_minor": 5
}
