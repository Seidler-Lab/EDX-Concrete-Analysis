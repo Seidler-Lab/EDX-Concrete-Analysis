{
 "cells": [
  {
   "cell_type": "code",
   "execution_count": 1,
   "id": "6bb22717-dcb6-4b31-905c-19a4545d8136",
   "metadata": {},
   "outputs": [],
   "source": [
    "import h5py\n",
    "import matplotlib.pyplot as plt\n",
    "import numpy as np\n",
    "import os\n",
    "import pandas as pd\n",
    "import matplotlib as mpl\n",
    "import seaborn as sns\n",
    "from pathlib import Path\n",
    "%matplotlib inline"
   ]
  },
  {
   "cell_type": "code",
   "execution_count": 2,
   "id": "08d13e6b-b250-4a4b-983e-7641b73efbd0",
   "metadata": {},
   "outputs": [],
   "source": [
    "class spatialspectra:\n",
    "    \n",
    "    def __init__(self, sname, ph, days, temperature, scan_set):\n",
    "        pass\n",
    "    \n",
    "class scan:\n",
    "    \n",
    "    def __init__(self, spectra):\n",
    "        pass\n",
    "    \n",
    "class spectra:\n",
    "    \n",
    "    def __init__(self, name, ydata, ):\n",
    "        self.name = name\n",
    "        self.fileloc = fileloc\n",
    "        self.ftype = ftype\n",
    "        \n",
    "    def see(self, index):\n",
    "        if self.ftype == 'hdf5':\n",
    "            print('yep')\n",
    "            openedh5df = h5py.File(os.path.expanduser(self.fileloc), 'r')\n",
    "            with openedh5df as f:\n",
    "                spec_dat = f['dxpMercury:mca1.VAL'][index]\n",
    "                x_dat = range(len(spec_dat))\n",
    "            fig, ax = plt.subplots()\n",
    "            ax.plot(x_dat, spec_dat, linewidth=2.0)\n",
    "            plt.show()\n",
    "            \n",
    "        else: \n",
    "            print('Data file not supported')\n",
    "    \n",
    "    def plot(self, position, llim, ulim):\n",
    "        if self.ftype == 'hdf5':\n",
    "            print('yep')\n",
    "            x_dat = 0\n",
    "            y_dat = 0\n",
    "        else: \n",
    "            print('Data file not supported')\n",
    "    "
   ]
  },
  {
   "cell_type": "code",
   "execution_count": null,
   "id": "41adb8be-ae99-4fa1-9d71-c27d41a7879e",
   "metadata": {},
   "outputs": [],
   "source": []
  },
  {
   "cell_type": "code",
   "execution_count": 3,
   "id": "4bf126c3-49c6-43c5-8a1c-b818a3437b1e",
   "metadata": {
    "tags": []
   },
   "outputs": [],
   "source": [
    "#Make a dataframe from the sample directory. Good to visualize data. You should \n",
    "#feed this dataframe to another function that will make an array of objects\n",
    "\n",
    "def gen_spec_df(folder_dir, meta_dic):\n",
    "    \n",
    "    #initialize a df of the CSV sample/scan info.\n",
    "    #This should probably be something I iron out with path (it'd be a '\\' on PC) but it's fine for now\n",
    "    raw_df = pd.read_csv(folder_dir + \"/\" + meta_dic)\n",
    "    \n",
    "    #get the hdf filename for every file in the directory\n",
    "    files = []\n",
    "    for x in os.listdir(folder_dir):\n",
    "        if x.endswith(\".hdf5\"):\n",
    "            files.append(x)\n",
    "    \n",
    "    #Add a column for filename in meta_df that is the same length of the meta_df\n",
    "    edxname = [''] * len(raw_df.index)\n",
    "    raw_df['FileName'] = edxname\n",
    "    \n",
    "    #Find each file in the meta_df by comparing scan number. Add file name \n",
    "    for y in range(len(files)):\n",
    "        hdf_file = h5py.File(directory + files[y], 'r')\n",
    "        for z in range(len(raw_df.index)):\n",
    "            if raw_df['ScanNum'].values[z] == hdf_file.attrs['Scan Number']:\n",
    "                raw_df['FileName'].values[z] = directory+files[y]\n",
    "    \n",
    "    #Add a column for EDX data arrays\n",
    "    edxd = [''] * len(raw_df.index)\n",
    "    raw_df['Spectra'] = edxd\n",
    "    raw_df['Position'] = edxd\n",
    "    \n",
    "    #Scan through filenames and add position and spectra data arrays to df\n",
    "    #If there's none, set those values equal to some string or warning\n",
    "    for h in range(len(raw_df.index)):\n",
    "        datahdf = h5py.File(raw_df['FileName'].values[h], 'r')\n",
    "        positionflag = 'No Position Data (uh oh)'\n",
    "        spectraflag = 'No Spectra Data (uh oh)'\n",
    "        with h5py.File(raw_df['FileName'].values[h], 'r') as f:\n",
    "            for x in range(len(f.keys())):\n",
    "                if list(f.keys())[x] == '7bmb1:aero:m2.VAL':\n",
    "                    raw_df['Position'].values[h] = f['7bmb1:aero:m2.VAL'][...]\n",
    "                    positionflag = 'yep'\n",
    "                if list(f.keys())[x] == 'dxpMercury:mca1.VAL':\n",
    "                    raw_df['Spectra'].values[h] = f['dxpMercury:mca1.VAL'][...]\n",
    "                    spectraflag = 'yep'\n",
    "        if positionflag != 'yep':\n",
    "            raw_df['Position'].values[h] = []\n",
    "        if spectraflag != 'yep':\n",
    "            raw_df['Spectra'].values[h] = []\n",
    "\n",
    "    return raw_df"
   ]
  },
  {
   "cell_type": "code",
   "execution_count": 4,
   "id": "14b3b8c9-27e8-4be3-be55-6a929d7e3b80",
   "metadata": {},
   "outputs": [],
   "source": [
    "#Make and return a single sample's spatial spectrum with it's associated scans at different distances\n",
    "\n",
    "def make_object(df, scannum, position):\n",
    "    flag = 'Not in Range'\n",
    "    # if position == None:\n",
    "    #     for x in range(len(df.index)):\n",
    "    #         if df['ScanNum'].values[x] == scannum:\n",
    "    #             if len(df['Position'].values[x]) > 0:\n",
    "\n",
    "            \n",
    "    for x in range(len(df.index)):\n",
    "            if df['ScanNum'].values[x] == scannum:\n",
    "                if len(df['Spectra'].values[x]) > 0:\n",
    "                    if len(df['Position'].values[x]) > 0:\n",
    "                        scindex = df[df['ScanNum']==scannum].index.values[0]\n",
    "                        posarr = df['Position'].values[scindex]\n",
    "                        specarr = df['Spectra'].values[scindex]\n",
    "                        print(posarr)\n",
    "                        print('\\n')\n",
    "                        print(specarr)\n",
    "                        return  #scanobj = scan(df.query('ScanNum' == str(scannum))['Spectra'])\n",
    "\n",
    "                    else: print('No Position Data, setting position as 0 for all scans')\n",
    "                else: return (print('No Spectra Data'))\n",
    "                flag = None\n",
    "    if flag != None:\n",
    "        print(flag)\n",
    "        \n",
    "class scan:\n",
    "    \n",
    "    def __init__(self, specdata, pos):\n",
    "        pass\n",
    "    \n",
    "\n",
    "\n",
    "\n",
    "#def spectralize(df):\n",
    "#obj = spectra('Tester', '~/Documents/MDA_Scans_Seidler/7bmb1_1080.hdf5' )\n",
    "#obj.see(2)"
   ]
  },
  {
   "cell_type": "code",
   "execution_count": 5,
   "id": "247a2b35-0b96-4e56-a037-6d5364e3a1dc",
   "metadata": {},
   "outputs": [
    {
     "name": "stdout",
     "output_type": "stream",
     "text": [
      "[-13.   -12.75 -12.5  -12.25 -12.   -11.75 -11.5  -11.25 -11.   -10.75\n",
      " -10.5  -10.25 -10.    -9.75  -9.5   -9.25  -9.    -8.75  -8.5   -8.25\n",
      "  -8.    -7.75  -7.5   -7.25  -7.    -6.75  -6.5   -6.25  -6.  ]\n",
      "\n",
      "\n",
      "[[   0. 1077. 1278. ...    7.    6.    8.]\n",
      " [   0. 1104. 1199. ...    7.    7.   10.]\n",
      " [   0. 1069. 1261. ...    3.    4.    8.]\n",
      " ...\n",
      " [   0. 1049. 1262. ...    8.    8.   11.]\n",
      " [   0. 1050. 1252. ...    8.    7.    9.]\n",
      " [   0. 1038. 1260. ...    7.    9.   10.]]\n"
     ]
    }
   ],
   "source": [
    "directory = '/Users/anthonygironda/Documents/MDA_Scans_Seidler/'\n",
    "meta = '7bmb1_10.19.22_EDXindex.csv'\n",
    "\n",
    "df = gen_spec_df(directory, meta)\n",
    "\n",
    "y = (df[df['ScanNum']==1083].index.values)[0]\n",
    "\n",
    "\n",
    "make_object(df, 1086, 0)"
   ]
  },
  {
   "cell_type": "code",
   "execution_count": 15,
   "id": "28449653-81c4-441e-81e8-6ba64710a774",
   "metadata": {},
   "outputs": [
    {
     "ename": "NameError",
     "evalue": "name 'raw_df' is not defined",
     "output_type": "error",
     "traceback": [
      "\u001b[0;31m---------------------------------------------------------------------------\u001b[0m",
      "\u001b[0;31mNameError\u001b[0m                                 Traceback (most recent call last)",
      "Cell \u001b[0;32mIn [15], line 1\u001b[0m\n\u001b[0;32m----> 1\u001b[0m \u001b[38;5;28;01mwith\u001b[39;00m h5py\u001b[38;5;241m.\u001b[39mFile(raw_df[\u001b[38;5;124m'\u001b[39m\u001b[38;5;124mFileName\u001b[39m\u001b[38;5;124m'\u001b[39m]\u001b[38;5;241m.\u001b[39mvalues[h], \u001b[38;5;124m'\u001b[39m\u001b[38;5;124mr\u001b[39m\u001b[38;5;124m'\u001b[39m) \u001b[38;5;28;01mas\u001b[39;00m g:\n\u001b[1;32m      2\u001b[0m     colhead2 \u001b[38;5;241m=\u001b[39m \u001b[38;5;28mlist\u001b[39m(g\u001b[38;5;241m.\u001b[39mkeys())         \n\u001b[1;32m      3\u001b[0m     \u001b[38;5;28;01mfor\u001b[39;00m crawler \u001b[38;5;129;01min\u001b[39;00m \u001b[38;5;28mrange\u001b[39m(\u001b[38;5;28mlen\u001b[39m(colhead2)):\n",
      "\u001b[0;31mNameError\u001b[0m: name 'raw_df' is not defined"
     ]
    }
   ],
   "source": [
    "        with h5py.File(raw_df['FileName'].values[h], 'r') as g:\n",
    "            colhead2 = list(g.keys())         \n",
    "            for crawler in range(len(colhead2)):\n",
    "                print(g['7bmb1:aero:m2.VAL'][...])\n",
    "                if colhead2[crawler] == '7bmb1:aero:m2.VAL':\n",
    "                    raw_df['Position'].values[h] = g['7bmb1:aero:m2.VAL'][...]\n",
    "                else:\n",
    "                    raw_df['Position'].values[h] = 'Look Elsewhere (uh oh)'"
   ]
  },
  {
   "cell_type": "code",
   "execution_count": 16,
   "id": "ed4b071b-d7ac-4043-9db6-55688d69c9f1",
   "metadata": {},
   "outputs": [
    {
     "data": {
      "text/plain": [
       "array([-13.  , -12.75,   0.  ,   0.  ,   0.  ,   0.  ,   0.  ,   0.  ,\n",
       "         0.  ,   0.  ,   0.  ,   0.  ,   0.  ,   0.  ,   0.  ,   0.  ,\n",
       "         0.  ,   0.  ,   0.  ,   0.  ,   0.  ,   0.  ,   0.  ,   0.  ,\n",
       "         0.  ,   0.  ,   0.  ,   0.  ,   0.  ])"
      ]
     },
     "execution_count": 16,
     "metadata": {},
     "output_type": "execute_result"
    }
   ],
   "source": [
    "fname = '/Users/anthonygironda/Documents/MDA_Scans_Seidler/7bmb1_1082.hdf5'\n",
    "with h5py.File(fname, 'r') as f:\n",
    "    data_spectra = f['dxpMercury:mca1.VAL'][...]\n",
    "    #b = list(f.keys())\n",
    "    #print(b[1])\n",
    "\n",
    "fname = '/Users/anthonygironda/Documents/MDA_Scans_Seidler/7bmb1_1084.hdf5'  \n",
    "with h5py.File(fname, 'r') as f:\n",
    "    data_position = f['7bmb1:aero:m2.VAL'][...]\n",
    "    \n",
    "data_position"
   ]
  },
  {
   "cell_type": "code",
   "execution_count": 17,
   "id": "cc548ad6-6b62-41a3-a234-1b287cd14325",
   "metadata": {},
   "outputs": [],
   "source": [
    "def hdf_dataframe(folder_dir, meta_dic):\n",
    "    \n",
    "    #initialize a df of the CSV sample/scan info. \n",
    "    meta_df = pd.read_csv(folder_dir + \"/\" + meta_dic)\n",
    "    \n",
    "    #get the hdf filename for every file in the directory\n",
    "    files = []\n",
    "    for x in os.listdir(directory):\n",
    "        if x.endswith(\".hdf5\"):\n",
    "            files.append(x)\n",
    "    \n",
    "    #Add a column for filename in meta_df that is the same length of the meta_df\n",
    "    edxname = [''] * len(meta_df.index)\n",
    "    meta_df['FileName'] = edxname\n",
    "    \n",
    "    #Find each file in the meta_df by comparing scan number. Add file name \n",
    "    for y in range(len(files)):\n",
    "        hdf_file = h5py.File(directory + files[y], 'r')\n",
    "        for z in range(len(meta_df.index)):\n",
    "            if meta_df['ScanNum'].values[z] == hdf_file.attrs['Scan Number']:\n",
    "                meta_df['FileName'].values[z] = directory+files[y]\n",
    "                \n",
    "    return meta_df"
   ]
  },
  {
   "cell_type": "code",
   "execution_count": 76,
   "id": "eb86ffb8-3212-4e83-b4c8-ac9c1c44ebed",
   "metadata": {},
   "outputs": [
    {
     "name": "stdout",
     "output_type": "stream",
     "text": [
      "yep\n"
     ]
    },
    {
     "ename": "TypeError",
     "evalue": "object of type 'numpy.float64' has no len()",
     "output_type": "error",
     "traceback": [
      "\u001b[0;31m---------------------------------------------------------------------------\u001b[0m",
      "\u001b[0;31mTypeError\u001b[0m                                 Traceback (most recent call last)",
      "Cell \u001b[0;32mIn [76], line 31\u001b[0m\n\u001b[1;32m     28\u001b[0m             \u001b[38;5;28mprint\u001b[39m(\u001b[38;5;124m'\u001b[39m\u001b[38;5;124mData file not supported\u001b[39m\u001b[38;5;124m'\u001b[39m)\n\u001b[1;32m     30\u001b[0m obj \u001b[38;5;241m=\u001b[39m spectra(\u001b[38;5;124m'\u001b[39m\u001b[38;5;124mTester\u001b[39m\u001b[38;5;124m'\u001b[39m, \u001b[38;5;124m'\u001b[39m\u001b[38;5;124m~/Documents/MDA_Scans_Seidler/7bmb1_1075.hdf5\u001b[39m\u001b[38;5;124m'\u001b[39m , \u001b[38;5;124m'\u001b[39m\u001b[38;5;124mhdf5\u001b[39m\u001b[38;5;124m'\u001b[39m)\n\u001b[0;32m---> 31\u001b[0m obj\u001b[38;5;241m.\u001b[39msee(\u001b[38;5;241m0\u001b[39m)\n",
      "Cell \u001b[0;32mIn [76], line 14\u001b[0m, in \u001b[0;36mspectra.see\u001b[0;34m(self, index)\u001b[0m\n\u001b[1;32m     12\u001b[0m \u001b[38;5;28;01mwith\u001b[39;00m openedh5df \u001b[38;5;28;01mas\u001b[39;00m f:\n\u001b[1;32m     13\u001b[0m     spec_dat \u001b[38;5;241m=\u001b[39m f[\u001b[38;5;124m'\u001b[39m\u001b[38;5;124mdxpMercury:mca1.VAL\u001b[39m\u001b[38;5;124m'\u001b[39m][index]\n\u001b[0;32m---> 14\u001b[0m     x_dat \u001b[38;5;241m=\u001b[39m \u001b[38;5;28mrange\u001b[39m(\u001b[38;5;28;43mlen\u001b[39;49m\u001b[43m(\u001b[49m\u001b[43mspec_dat\u001b[49m\u001b[43m)\u001b[49m)\n\u001b[1;32m     15\u001b[0m fig, ax \u001b[38;5;241m=\u001b[39m plt\u001b[38;5;241m.\u001b[39msubplots()\n\u001b[1;32m     16\u001b[0m ax\u001b[38;5;241m.\u001b[39mplot(x_dat, spec_dat, linewidth\u001b[38;5;241m=\u001b[39m\u001b[38;5;241m2.0\u001b[39m)\n",
      "\u001b[0;31mTypeError\u001b[0m: object of type 'numpy.float64' has no len()"
     ]
    }
   ],
   "source": [
    "class spectra:\n",
    "    \n",
    "    def __init__(self, name, fileloc, ftype):\n",
    "        self.name = name\n",
    "        self.fileloc = fileloc\n",
    "        self.ftype = ftype\n",
    "        \n",
    "    def see(self, index):\n",
    "        if self.ftype == 'hdf5':\n",
    "            print('yep')\n",
    "            openedh5df = h5py.File(os.path.expanduser(self.fileloc), 'r')\n",
    "            with openedh5df as f:\n",
    "                spec_dat = f['dxpMercury:mca1.VAL'][index]\n",
    "                x_dat = range(len(spec_dat))\n",
    "            fig, ax = plt.subplots()\n",
    "            ax.plot(x_dat, spec_dat, linewidth=2.0)\n",
    "            plt.show()\n",
    "            \n",
    "        else: \n",
    "            print('Data file not supported')\n",
    "    \n",
    "    def plot(self, position, llim, ulim):\n",
    "        if self.ftype == 'hdf5':\n",
    "            print('yep')\n",
    "            x_dat = 0\n",
    "            y_dat = 0\n",
    "        else: \n",
    "            print('Data file not supported')\n",
    "        \n",
    "obj = spectra('Tester', '~/Documents/MDA_Scans_Seidler/7bmb1_1075.hdf5' , 'hdf5')\n",
    "obj.see(0)\n",
    "\n",
    "\n"
   ]
  },
  {
   "cell_type": "code",
   "execution_count": 19,
   "id": "0c3b8be5-6b48-4091-bc5d-8b21cd804111",
   "metadata": {},
   "outputs": [
    {
     "ename": "IndentationError",
     "evalue": "unexpected indent (4142479841.py, line 2)",
     "output_type": "error",
     "traceback": [
      "\u001b[0;36m  Cell \u001b[0;32mIn [19], line 2\u001b[0;36m\u001b[0m\n\u001b[0;31m    for h in range(len(raw_df.index)):\u001b[0m\n\u001b[0m    ^\u001b[0m\n\u001b[0;31mIndentationError\u001b[0m\u001b[0;31m:\u001b[0m unexpected indent\n"
     ]
    }
   ],
   "source": [
    "#Scan through filenames and add position and spectra data arrays to df\n",
    "    for h in range(len(raw_df.index)):\n",
    "        datahdf = h5py.File(raw_df['FileName'].values[h], 'r')\n",
    "        with h5py.File(raw_df['FileName'].values[h], 'r') as f:\n",
    "            raw_df['Spectra'].values[h] = f['dxpMercury:mca1.VAL'][...] \n",
    "            raw_df['Position'].values[h] = f['7bmb1:aero:m2.VAL'][...] \n",
    "    "
   ]
  },
  {
   "cell_type": "code",
   "execution_count": 20,
   "id": "4df83c10-8171-4f82-b2d8-e2afd39e6bad",
   "metadata": {},
   "outputs": [],
   "source": [
    "def get_hdf_scan(file_dir, file_name):\n",
    "    fname = file_dir + \"\\\\\"+file_name\n",
    "    # read the array of spectra (in order of bin number)\n",
    "    with h5py.File(fname, 'r') as f:\n",
    "        data_spectra = f['dxpMercury:mca1.VAL'][...]\n",
    "    # read the motor position for the scan of the sample\n",
    "    # across the beam\n",
    "    with h5py.File(fname, 'r') as f:\n",
    "        data_position = f['7bmb1:aero:m2.VAL'][...]\n",
    "        \n",
    "    # now you can run a loop over the number of elements in data_position\n",
    "    # to make a spectrum object at each position\n",
    "    # and then use that and the position to make\n",
    "    # all the stuff for the scan object\n",
    "    \n",
    "    return(data_spectra)   # this just gives the data array, need\n",
    "                              # to change is to return a scan object\n"
   ]
  },
  {
   "cell_type": "code",
   "execution_count": 21,
   "id": "2750a40a-175a-4e76-87a0-4f79bb10d1cd",
   "metadata": {},
   "outputs": [
    {
     "ename": "NameError",
     "evalue": "name 'data_folder' is not defined",
     "output_type": "error",
     "traceback": [
      "\u001b[0;31m---------------------------------------------------------------------------\u001b[0m",
      "\u001b[0;31mNameError\u001b[0m                                 Traceback (most recent call last)",
      "Cell \u001b[0;32mIn [21], line 14\u001b[0m\n\u001b[1;32m      9\u001b[0m     \u001b[38;5;28mprint\u001b[39m(scannum)\n\u001b[1;32m     12\u001b[0m scanfiledir \u001b[38;5;241m=\u001b[39m Path(\u001b[38;5;124m\"\u001b[39m\u001b[38;5;124m~/Documents/MDA_Scans_Seidler/7bmb1_1076.hdf5\u001b[39m\u001b[38;5;124m\"\u001b[39m)\n\u001b[0;32m---> 14\u001b[0m file_to_open \u001b[38;5;241m=\u001b[39m data_folder \u001b[38;5;241m/\u001b[39m \u001b[38;5;124m\"\u001b[39m\u001b[38;5;124mraw_data.txt\u001b[39m\u001b[38;5;124m\"\u001b[39m\n\u001b[1;32m     16\u001b[0m f \u001b[38;5;241m=\u001b[39m \u001b[38;5;28mopen\u001b[39m(file_to_open)\n\u001b[1;32m     18\u001b[0m \u001b[38;5;28mprint\u001b[39m(f\u001b[38;5;241m.\u001b[39mread())\n",
      "\u001b[0;31mNameError\u001b[0m: name 'data_folder' is not defined"
     ]
    }
   ],
   "source": [
    ">>> import pathlib\n",
    "#>>> pathlib.Path.cwd()\n",
    "pathlib.Path(r'C:\\Users\\gahjelle\\realpython\\file.txt')\n",
    "\n",
    "def expl_hdf_scan(filedir):\n",
    "    fname = folder_dir + \"/\" + file_name\n",
    "    hdf_df = pd.read_csv(folder_dir + \"/\" + meta_index)\n",
    "    scannum = fname.attrs['Scan Number']\n",
    "    print(scannum)\n",
    "\n",
    "\n",
    "scanfiledir = Path(\"~/Documents/MDA_Scans_Seidler/7bmb1_1076.hdf5\")\n",
    "\n",
    "file_to_open = data_folder / \"raw_data.txt\"\n",
    "\n",
    "f = open(file_to_open)\n",
    "\n",
    "print(f.read())"
   ]
  },
  {
   "cell_type": "code",
   "execution_count": 22,
   "id": "d15c876c-29d1-4166-bf3c-a383f6349fa2",
   "metadata": {},
   "outputs": [],
   "source": [
    "#Look up a single file and make a plot\n",
    "\n",
    "loc = \"~/Documents/MDA_Scans_Seidler/7bmb1_1076.hdf5\""
   ]
  },
  {
   "cell_type": "code",
   "execution_count": 23,
   "id": "7b94edcd-03f1-4412-b4a2-95251c8bc721",
   "metadata": {},
   "outputs": [
    {
     "data": {
      "text/plain": [
       "['Data Rank',\n",
       " 'Regular_file',\n",
       " 'Scan Number',\n",
       " 'Scan_Name_Rank_1',\n",
       " 'Scan_Name_Rank_2',\n",
       " 'Time Stamp',\n",
       " 'Trigger_0_Command_Rank1',\n",
       " 'Trigger_0_Command_Rank2',\n",
       " 'Trigger_0_Name_Rank1',\n",
       " 'Trigger_0_Name_Rank2',\n",
       " 'Trigger_1_Command_Rank2',\n",
       " 'Trigger_1_Name_Rank2',\n",
       " 'Version Number']"
      ]
     },
     "execution_count": 23,
     "metadata": {},
     "output_type": "execute_result"
    }
   ],
   "source": [
    "samplefolder = \"~/Documents/MDA_Scans_Seidler\"\n",
    "\n",
    "\n",
    "f = h5py.File(os.path.expanduser(\"~/Documents/MDA_Scans_Seidler/7bmb1_1076.hdf5\"), 'r')\n",
    "#list(f.keys())\n",
    "\n",
    "list(f.attrs.keys())\n",
    "\n",
    "#df = pd.read_csv(\"~/Documents/MDA_Scans_Seidler/7bmb1_10.19.22_EDXindex.csv\")\n",
    "\n",
    "#list(df.keys())\n",
    "#df.head()"
   ]
  },
  {
   "cell_type": "code",
   "execution_count": 24,
   "id": "b2d108fa-bec7-4a34-8028-a3146bcc27f8",
   "metadata": {},
   "outputs": [],
   "source": [
    "def get_hdf_scan(folder_dir, file_name, meta_index):\n",
    "    fname = folder_dir + \"/\" + file_name\n",
    "    hdf_df = pd.read_csv(folder_dir + \"/\" + meta_index)\n",
    "    scannum = fname.attrs['Scan Number']\n",
    "    print(scannum)"
   ]
  },
  {
   "cell_type": "code",
   "execution_count": 25,
   "id": "6abbd72c-d32d-4758-b8e7-3c01a8c7d71c",
   "metadata": {},
   "outputs": [
    {
     "name": "stdout",
     "output_type": "stream",
     "text": [
      "{'Data Rank': 2, 'Regular_file': 'True', 'Scan Number': 1076, 'Scan_Name_Rank_1': '7bmb1:scanH', 'Scan_Name_Rank_2': '7bmb1:scan1', 'Time Stamp': 'OCT 19, 2022 16:10:19.976122', 'Trigger_0_Command_Rank1': 1.0, 'Trigger_0_Command_Rank2': 1.0, 'Trigger_0_Name_Rank1': 'dxpMercury:EraseStart', 'Trigger_0_Name_Rank2': '7bmb1:scanH.EXSC', 'Trigger_1_Command_Rank2': 1.0, 'Trigger_1_Name_Rank2': '7bmb1:aero:m3.TWF', 'Version Number': 1.399999976158142}\n"
     ]
    }
   ],
   "source": [
    "print(dict(f.attrs))\n"
   ]
  },
  {
   "cell_type": "code",
   "execution_count": 26,
   "id": "aaa49936-4f45-43ef-b780-cb2498dbcf20",
   "metadata": {},
   "outputs": [],
   "source": [
    "#Format: {'scannum': csv_line}\n",
    "data = {}\n",
    "\n",
    "\n",
    "#for key, value in enumerate(['A','B','C']):\n",
    "#    print(key, value)\n"
   ]
  },
  {
   "cell_type": "code",
   "execution_count": 27,
   "id": "379e2d17-d0fb-4a34-8d9f-7fa69ba882ff",
   "metadata": {},
   "outputs": [],
   "source": [
    "def get_hdf_scan(file_dir, file_name):\n",
    "    fname = file_dir + \"\\\\\"+file_name\n",
    "    # read the array of spectra (in order of bin number)\n",
    "    with h5py.File(fname, 'r') as f:\n",
    "        data_spectra = f['dxpMercury:mca1.VAL'][...]\n",
    "    # read the motor position for the scan of the sample\n",
    "    # across the beam\n",
    "    with h5py.File(fname, 'r') as f:\n",
    "        data_position = f['7bmb1:aero:m2.VAL'][...]\n",
    "        \n",
    "    # now you can run a loop over the number of elements in data_position\n",
    "    # to make a spectrum object at each position\n",
    "    # and then use that and the position to make\n",
    "    # all the stuff for the scan object\n",
    "    \n",
    "    return(data_spectra)   # this just gives the data array, need\n",
    "                              # to change is to return a scan object\n"
   ]
  },
  {
   "cell_type": "code",
   "execution_count": 8,
   "id": "62008bc2-664d-45c9-8a8b-c30602fdcc8a",
   "metadata": {},
   "outputs": [
    {
     "name": "stdout",
     "output_type": "stream",
     "text": [
      "~/Documents/MDA_Scans_Seidler/7bmb1_1083.hdf5\n",
      "                   FullName  pH  Days  Temperature Atmosphere  SteelFiber  \\\n",
      "ScanNum                                                                     \n",
      "1076     High pH SF 25C 14d   1    14           25   100% CO2           1   \n",
      "1077     High pH SF 25C 14d   1    14           25   100% CO2           1   \n",
      "1078      High pH SF 25C 2d   1     2           25   100% CO2           1   \n",
      "1079      High pH SF 25C 2d   1     2           25   100% CO2           1   \n",
      "1080      High pH SF 25C 2d   1     2           25   100% CO2           1   \n",
      "\n",
      "         Aborted         Notes  \n",
      "ScanNum                         \n",
      "1076           0  Commisioning  \n",
      "1077           0           NaN  \n",
      "1078           1       Aborted  \n",
      "1079           0  Commisioning  \n",
      "1080           1       Aborted  \n"
     ]
    }
   ],
   "source": [
    "import h5py\n",
    "import matplotlib.pyplot as plt\n",
    "import numpy as np\n",
    "import os\n",
    "import pandas as pd\n",
    "import matplotlib as mpl\n",
    "import seaborn as sns\n",
    "%matplotlib inline\n",
    "\n",
    "\n",
    "\n",
    "\n",
    "def get_hdf_scan(folder_dir, file_name, meta_index):\n",
    "    fname = folder_dir + \"/\" + file_name\n",
    "    print(fname)\n",
    "    hdf_df = pd.read_csv(folder_dir + \"/\" + meta_index, index_col=0)\n",
    "    hdf_file = h5py.File(os.path.expanduser(fname), 'r')\n",
    "    scannum = hdf_file.attrs['Scan Number']\n",
    "    #print (scannum)\n",
    "    #hdf_df.loc(scannum)\n",
    "    print(hdf_df.head())\n",
    "\n",
    "directory = \"~/Documents/MDA_Scans_Seidler\"\n",
    "file = '7bmb1_1083.hdf5'\n",
    "mindex = '7bmb1_10.19.22_EDXindex.csv'\n",
    "\n",
    "\n",
    "get_hdf_scan(directory, file, mindex)\n",
    "\n",
    "\n"
   ]
  },
  {
   "cell_type": "code",
   "execution_count": null,
   "id": "fb2da1fc-b2f5-4983-a0f6-52cf05874663",
   "metadata": {},
   "outputs": [],
   "source": []
  },
  {
   "cell_type": "code",
   "execution_count": null,
   "id": "f6f6ce22-234f-43e6-99df-c83074951e15",
   "metadata": {},
   "outputs": [],
   "source": []
  },
  {
   "cell_type": "code",
   "execution_count": 236,
   "id": "7845295f-d3a5-4d21-b6f4-d7767048d9ed",
   "metadata": {},
   "outputs": [],
   "source": [
    "class spectrum:\n",
    "    \n",
    "    def __init__(self, sname, ph, days, temperature, spectra):\n",
    "        pass\n",
    "\n",
    "\n",
    "def gen_spec_set(folder_dir, meta_dic):\n",
    "    \n",
    "    #initialize a df of the CSV sample/scan info.\n",
    "    #This should probably be something I iron out with path (it'd be a '\\' on PC) but it's fine for now\n",
    "    raw_df = pd.read_csv(folder_dir + \"/\" + meta_dic)\n",
    "    \n",
    "    #get the hdf filename for every file in the directory\n",
    "    files = []\n",
    "    for x in os.listdir(folder_dir):\n",
    "        if x.endswith(\".hdf5\"):\n",
    "            files.append(x)\n",
    "    \n",
    "    #Add a column for filename in meta_df that is the same length of the meta_df\n",
    "    edxname = [''] * len(raw_df.index)\n",
    "    raw_df['FileName'] = edxname\n",
    "    \n",
    "    #Find each file in the meta_df by comparing scan number. Add file name \n",
    "    for y in range(len(files)):\n",
    "        hdf_file = h5py.File(directory + files[y], 'r')\n",
    "        for z in range(len(raw_df.index)):\n",
    "            if raw_df['ScanNum'].values[z] == hdf_file.attrs['Scan Number']:\n",
    "                raw_df['FileName'].values[z] = directory+files[y]\n",
    "    \n",
    "    #Add a column for EDX data arrays\n",
    "    edxd = [''] * len(raw_df.index)\n",
    "    raw_df['Spectra'] = edxd\n",
    "    #raw_df['Position'] = edxd\n",
    "    \n",
    "    #Drop any rows that were aborted or have comments\n",
    "    #raw_df = raw_df[raw_df.isnull().any(axis = 1)]\n",
    "\n",
    "    #Scan through filenames and add position and spectra data arrays to df\n",
    "    for h in range(len(raw_df.index)):\n",
    "        datahdf = h5py.File(raw_df['FileName'].values[h], 'r')\n",
    "        with h5py.File(raw_df['FileName'].values[h], 'r') as f:\n",
    "            colhead = list(f.keys())   \n",
    "            for crawler in range(len(colhead)):\n",
    "                if colhead[crawler] == 'dxpMercury:mca1.VAL':\n",
    "                    raw_df['Spectra'].values[h] = f['dxpMercury:mca1.VAL'][...] \n",
    "                    #raw_df['Position'].values[h] = f['7bmb1:aero:m2.VAL'][...]\n",
    "                else:\n",
    "                    raw_df['Spectra'].values[h] = 'Look Elsewhere (uh oh)'\n",
    "    return raw_df"
   ]
  }
 ],
 "metadata": {
  "kernelspec": {
   "display_name": "Python 3 (ipykernel)",
   "language": "python",
   "name": "python3"
  },
  "language_info": {
   "codemirror_mode": {
    "name": "ipython",
    "version": 3
   },
   "file_extension": ".py",
   "mimetype": "text/x-python",
   "name": "python",
   "nbconvert_exporter": "python",
   "pygments_lexer": "ipython3",
   "version": "3.10.6"
  },
  "toc-showmarkdowntxt": false
 },
 "nbformat": 4,
 "nbformat_minor": 5
}
