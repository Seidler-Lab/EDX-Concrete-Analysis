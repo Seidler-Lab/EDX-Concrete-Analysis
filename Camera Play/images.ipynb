{
 "cells": [
  {
   "cell_type": "code",
   "execution_count": 12,
   "metadata": {
    "collapsed": false,
    "jupyter": {
     "outputs_hidden": false
    }
   },
   "outputs": [],
   "source": [
    "%matplotlib inline"
   ]
  },
  {
   "cell_type": "markdown",
   "metadata": {},
   "source": [
    "\n",
    "# Image tutorial\n",
    "\n",
    "A short tutorial on plotting images with Matplotlib.\n",
    "\n",
    "\n",
    "## Startup commands\n",
    "\n",
    "First, let's start IPython.  It is a most excellent enhancement to the\n",
    "standard Python prompt, and it ties in especially well with\n",
    "Matplotlib.  Start IPython either directly at a shell, or with the Jupyter\n",
    "Notebook (where IPython as a running kernel).\n",
    "\n",
    "With IPython started, we now need to connect to a GUI event loop.  This\n",
    "tells IPython where (and how) to display plots.  To connect to a GUI\n",
    "loop, execute the **%matplotlib** magic at your IPython prompt.  There's more\n",
    "detail on exactly what this does at [IPython's documentation on GUI\n",
    "event loops](https://ipython.readthedocs.io/en/stable/interactive/reference.html#gui-event-loop-support).\n",
    "\n",
    "If you're using Jupyter Notebook, the same commands are available, but\n",
    "people commonly use a specific argument to the %matplotlib magic:\n",
    "\n",
    ".. sourcecode:: ipython\n",
    "\n",
    "    In [1]: %matplotlib inline\n",
    "\n",
    "This turns on inline plotting, where plot graphics will appear in your\n",
    "notebook.  This has important implications for interactivity.  For inline plotting, commands in\n",
    "cells below the cell that outputs a plot will not affect the plot.  For example,\n",
    "changing the colormap is not possible from cells below the cell that creates a plot.\n",
    "However, for other backends, such as Qt, that open a separate window,\n",
    "cells below those that create the plot will change the plot - it is a\n",
    "live object in memory.\n",
    "\n",
    "This tutorial will use Matplotlib's implicit plotting interface, pyplot.  This\n",
    "interface maintains global state, and is very useful for quickly and easily\n",
    "experimenting with various plot settings.  The alternative is the explicit,\n",
    "which is more suitable for large application development.  For an explanation\n",
    "of the tradeoffs between the implicit and explicit interfaces see\n",
    "`api_interfaces` and the :doc:`Quick start guide\n",
    "</tutorials/introductory/quick_start>` to start using the explicit interface.\n",
    "For now, let's get on with the implicit approach:\n"
   ]
  },
  {
   "cell_type": "code",
   "execution_count": 14,
   "metadata": {
    "collapsed": false,
    "jupyter": {
     "outputs_hidden": false
    }
   },
   "outputs": [],
   "source": [
    "import matplotlib.pyplot as plt\n",
    "import matplotlib.image as mpimg"
   ]
  },
  {
   "cell_type": "markdown",
   "metadata": {},
   "source": [
    "\n",
    "## Importing image data into Numpy arrays\n",
    "\n",
    "Matplotlib relies on the Pillow_ library to load image data.\n",
    "\n",
    "\n",
    "Here's the image we're going to play with:\n",
    "\n",
    "<img src=\"file://../../_static/stinkbug.png\">\n",
    "\n",
    "It's a 24-bit RGB PNG image (8 bits for each of R, G, B).  Depending\n",
    "on where you get your data, the other kinds of image that you'll most\n",
    "likely encounter are RGBA images, which allow for transparency, or\n",
    "single-channel grayscale (luminosity) images.  Download [stinkbug.png](https://raw.githubusercontent.com/matplotlib/matplotlib/main/doc/_static/stinkbug.png)\n",
    "to your computer for the rest of this tutorial.\n",
    "\n",
    "And here we go...\n",
    "\n"
   ]
  },
  {
   "cell_type": "code",
   "execution_count": 15,
   "metadata": {
    "collapsed": false,
    "jupyter": {
     "outputs_hidden": false
    }
   },
   "outputs": [
    {
     "ename": "FileNotFoundError",
     "evalue": "[Errno 2] No such file or directory: '../../doc/_static/stinkbug.png'",
     "output_type": "error",
     "traceback": [
      "\u001b[0;31m---------------------------------------------------------------------------\u001b[0m",
      "\u001b[0;31mFileNotFoundError\u001b[0m                         Traceback (most recent call last)",
      "Cell \u001b[0;32mIn [15], line 1\u001b[0m\n\u001b[0;32m----> 1\u001b[0m img \u001b[38;5;241m=\u001b[39m mpimg\u001b[38;5;241m.\u001b[39mimread(\u001b[38;5;124m'\u001b[39m\u001b[38;5;124m../../doc/_static/stinkbug.png\u001b[39m\u001b[38;5;124m'\u001b[39m)\n\u001b[1;32m      2\u001b[0m \u001b[38;5;28mprint\u001b[39m(img)\n",
      "File \u001b[0;32m/opt/homebrew/lib/python3.10/site-packages/matplotlib/image.py:1541\u001b[0m, in \u001b[0;36mimread\u001b[0;34m(fname, format)\u001b[0m\n\u001b[1;32m   1534\u001b[0m \u001b[38;5;28;01mif\u001b[39;00m \u001b[38;5;28misinstance\u001b[39m(fname, \u001b[38;5;28mstr\u001b[39m) \u001b[38;5;129;01mand\u001b[39;00m \u001b[38;5;28mlen\u001b[39m(parse\u001b[38;5;241m.\u001b[39murlparse(fname)\u001b[38;5;241m.\u001b[39mscheme) \u001b[38;5;241m>\u001b[39m \u001b[38;5;241m1\u001b[39m:\n\u001b[1;32m   1535\u001b[0m     \u001b[38;5;66;03m# Pillow doesn't handle URLs directly.\u001b[39;00m\n\u001b[1;32m   1536\u001b[0m     \u001b[38;5;28;01mraise\u001b[39;00m \u001b[38;5;167;01mValueError\u001b[39;00m(\n\u001b[1;32m   1537\u001b[0m         \u001b[38;5;124m\"\u001b[39m\u001b[38;5;124mPlease open the URL for reading and pass the \u001b[39m\u001b[38;5;124m\"\u001b[39m\n\u001b[1;32m   1538\u001b[0m         \u001b[38;5;124m\"\u001b[39m\u001b[38;5;124mresult to Pillow, e.g. with \u001b[39m\u001b[38;5;124m\"\u001b[39m\n\u001b[1;32m   1539\u001b[0m         \u001b[38;5;124m\"\u001b[39m\u001b[38;5;124m``np.array(PIL.Image.open(urllib.request.urlopen(url)))``.\u001b[39m\u001b[38;5;124m\"\u001b[39m\n\u001b[1;32m   1540\u001b[0m         )\n\u001b[0;32m-> 1541\u001b[0m \u001b[38;5;28;01mwith\u001b[39;00m \u001b[43mimg_open\u001b[49m\u001b[43m(\u001b[49m\u001b[43mfname\u001b[49m\u001b[43m)\u001b[49m \u001b[38;5;28;01mas\u001b[39;00m image:\n\u001b[1;32m   1542\u001b[0m     \u001b[38;5;28;01mreturn\u001b[39;00m (_pil_png_to_float_array(image)\n\u001b[1;32m   1543\u001b[0m             \u001b[38;5;28;01mif\u001b[39;00m \u001b[38;5;28misinstance\u001b[39m(image, PIL\u001b[38;5;241m.\u001b[39mPngImagePlugin\u001b[38;5;241m.\u001b[39mPngImageFile) \u001b[38;5;28;01melse\u001b[39;00m\n\u001b[1;32m   1544\u001b[0m             pil_to_array(image))\n",
      "File \u001b[0;32m/opt/homebrew/lib/python3.10/site-packages/PIL/ImageFile.py:104\u001b[0m, in \u001b[0;36mImageFile.__init__\u001b[0;34m(self, fp, filename)\u001b[0m\n\u001b[1;32m    100\u001b[0m \u001b[38;5;28mself\u001b[39m\u001b[38;5;241m.\u001b[39mdecodermaxblock \u001b[38;5;241m=\u001b[39m MAXBLOCK\n\u001b[1;32m    102\u001b[0m \u001b[38;5;28;01mif\u001b[39;00m is_path(fp):\n\u001b[1;32m    103\u001b[0m     \u001b[38;5;66;03m# filename\u001b[39;00m\n\u001b[0;32m--> 104\u001b[0m     \u001b[38;5;28mself\u001b[39m\u001b[38;5;241m.\u001b[39mfp \u001b[38;5;241m=\u001b[39m \u001b[38;5;28;43mopen\u001b[39;49m\u001b[43m(\u001b[49m\u001b[43mfp\u001b[49m\u001b[43m,\u001b[49m\u001b[43m \u001b[49m\u001b[38;5;124;43m\"\u001b[39;49m\u001b[38;5;124;43mrb\u001b[39;49m\u001b[38;5;124;43m\"\u001b[39;49m\u001b[43m)\u001b[49m\n\u001b[1;32m    105\u001b[0m     \u001b[38;5;28mself\u001b[39m\u001b[38;5;241m.\u001b[39mfilename \u001b[38;5;241m=\u001b[39m fp\n\u001b[1;32m    106\u001b[0m     \u001b[38;5;28mself\u001b[39m\u001b[38;5;241m.\u001b[39m_exclusive_fp \u001b[38;5;241m=\u001b[39m \u001b[38;5;28;01mTrue\u001b[39;00m\n",
      "\u001b[0;31mFileNotFoundError\u001b[0m: [Errno 2] No such file or directory: '../../doc/_static/stinkbug.png'"
     ]
    }
   ],
   "source": [
    "img = mpimg.imread('../../doc/_static/stinkbug.png')\n",
    "print(img)"
   ]
  },
  {
   "cell_type": "markdown",
   "metadata": {},
   "source": [
    "Note the dtype there - float32.  Matplotlib has rescaled the 8 bit\n",
    "data from each channel to floating point data between 0.0 and 1.0.  As\n",
    "a side note, the only datatype that Pillow can work with is uint8.\n",
    "Matplotlib plotting can handle float32 and uint8, but image\n",
    "reading/writing for any format other than PNG is limited to uint8\n",
    "data.  Why 8 bits? Most displays can only render 8 bits per channel\n",
    "worth of color gradation.  Why can they only render 8 bits/channel?\n",
    "Because that's about all the human eye can see.  More here (from a\n",
    "photography standpoint): [Luminous Landscape bit depth tutorial](https://luminous-landscape.com/bit-depth/).\n",
    "\n",
    "Each inner list represents a pixel.  Here, with an RGB image, there\n",
    "are 3 values.  Since it's a black and white image, R, G, and B are all\n",
    "similar.  An RGBA (where A is alpha, or transparency) has 4 values\n",
    "per inner list, and a simple luminance image just has one value (and\n",
    "is thus only a 2-D array, not a 3-D array).  For RGB and RGBA images,\n",
    "Matplotlib supports float32 and uint8 data types.  For grayscale,\n",
    "Matplotlib supports only float32.  If your array data does not meet\n",
    "one of these descriptions, you need to rescale it.\n",
    "\n",
    "\n",
    "## Plotting numpy arrays as images\n",
    "\n",
    "So, you have your data in a numpy array (either by importing it, or by\n",
    "generating it).  Let's render it.  In Matplotlib, this is performed\n",
    "using the :func:`~matplotlib.pyplot.imshow` function.  Here we'll grab\n",
    "the plot object.  This object gives you an easy way to manipulate the\n",
    "plot from the prompt.\n",
    "\n"
   ]
  },
  {
   "cell_type": "code",
   "execution_count": null,
   "metadata": {
    "collapsed": false,
    "jupyter": {
     "outputs_hidden": false
    }
   },
   "outputs": [],
   "source": [
    "imgplot = plt.imshow(img)"
   ]
  },
  {
   "cell_type": "markdown",
   "metadata": {},
   "source": [
    "You can also plot any numpy array.\n",
    "\n",
    "\n",
    "### Applying pseudocolor schemes to image plots\n",
    "\n",
    "Pseudocolor can be a useful tool for enhancing contrast and\n",
    "visualizing your data more easily.  This is especially useful when\n",
    "making presentations of your data using projectors - their contrast is\n",
    "typically quite poor.\n",
    "\n",
    "Pseudocolor is only relevant to single-channel, grayscale, luminosity\n",
    "images.  We currently have an RGB image.  Since R, G, and B are all\n",
    "similar (see for yourself above or in your data), we can just pick one\n",
    "channel of our data using array slicing (you can read more in the\n",
    "[Numpy tutorial](https://numpy.org/doc/stable/user/quickstart.html\n",
    "#indexing-slicing-and-iterating)):\n",
    "\n"
   ]
  },
  {
   "cell_type": "code",
   "execution_count": null,
   "metadata": {
    "collapsed": false,
    "jupyter": {
     "outputs_hidden": false
    }
   },
   "outputs": [],
   "source": [
    "lum_img = img[:, :, 0]\n",
    "plt.imshow(lum_img)"
   ]
  },
  {
   "cell_type": "markdown",
   "metadata": {},
   "source": [
    "Now, with a luminosity (2D, no color) image, the default colormap (aka lookup table,\n",
    "LUT), is applied.  The default is called viridis.  There are plenty of\n",
    "others to choose from.\n",
    "\n"
   ]
  },
  {
   "cell_type": "code",
   "execution_count": 4,
   "metadata": {
    "collapsed": false,
    "jupyter": {
     "outputs_hidden": false
    }
   },
   "outputs": [
    {
     "ename": "NameError",
     "evalue": "name 'lum_img' is not defined",
     "output_type": "error",
     "traceback": [
      "\u001b[0;31m---------------------------------------------------------------------------\u001b[0m",
      "\u001b[0;31mNameError\u001b[0m                                 Traceback (most recent call last)",
      "Cell \u001b[0;32mIn [4], line 1\u001b[0m\n\u001b[0;32m----> 1\u001b[0m plt\u001b[38;5;241m.\u001b[39mimshow(lum_img, cmap\u001b[38;5;241m=\u001b[39m\u001b[38;5;124m\"\u001b[39m\u001b[38;5;124mhot\u001b[39m\u001b[38;5;124m\"\u001b[39m)\n",
      "\u001b[0;31mNameError\u001b[0m: name 'lum_img' is not defined"
     ]
    }
   ],
   "source": [
    "plt.imshow(lum_img, cmap=\"hot\")"
   ]
  },
  {
   "cell_type": "markdown",
   "metadata": {},
   "source": [
    "Note that you can also change colormaps on existing plot objects using the\n",
    ":meth:`~matplotlib.cm.ScalarMappable.set_cmap` method:\n",
    "\n"
   ]
  },
  {
   "cell_type": "code",
   "execution_count": 5,
   "metadata": {
    "collapsed": false,
    "jupyter": {
     "outputs_hidden": false
    }
   },
   "outputs": [
    {
     "ename": "NameError",
     "evalue": "name 'lum_img' is not defined",
     "output_type": "error",
     "traceback": [
      "\u001b[0;31m---------------------------------------------------------------------------\u001b[0m",
      "\u001b[0;31mNameError\u001b[0m                                 Traceback (most recent call last)",
      "Cell \u001b[0;32mIn [5], line 1\u001b[0m\n\u001b[0;32m----> 1\u001b[0m imgplot \u001b[38;5;241m=\u001b[39m plt\u001b[38;5;241m.\u001b[39mimshow(lum_img)\n\u001b[1;32m      2\u001b[0m imgplot\u001b[38;5;241m.\u001b[39mset_cmap(\u001b[38;5;124m'\u001b[39m\u001b[38;5;124mnipy_spectral\u001b[39m\u001b[38;5;124m'\u001b[39m)\n",
      "\u001b[0;31mNameError\u001b[0m: name 'lum_img' is not defined"
     ]
    }
   ],
   "source": [
    "imgplot = plt.imshow(lum_img)\n",
    "imgplot.set_cmap('nipy_spectral')"
   ]
  },
  {
   "cell_type": "markdown",
   "metadata": {},
   "source": [
    "<div class=\"alert alert-info\"><h4>Note</h4><p>However, remember that in the Jupyter Notebook with the inline backend,\n",
    "   you can't make changes to plots that have already been rendered.  If you\n",
    "   create imgplot here in one cell, you cannot call set_cmap() on it in a later\n",
    "   cell and expect the earlier plot to change.  Make sure that you enter these\n",
    "   commands together in one cell.  plt commands will not change plots from earlier\n",
    "   cells.</p></div>\n",
    "\n",
    "There are many other colormap schemes available.  See the [list and\n",
    "images of the colormaps](../colors/colormaps.html).\n",
    "\n",
    "\n",
    "### Color scale reference\n",
    "\n",
    "It's helpful to have an idea of what value a color represents.  We can\n",
    "do that by adding a color bar to your figure:\n",
    "\n"
   ]
  },
  {
   "cell_type": "code",
   "execution_count": 6,
   "metadata": {
    "collapsed": false,
    "jupyter": {
     "outputs_hidden": false
    }
   },
   "outputs": [
    {
     "ename": "NameError",
     "evalue": "name 'lum_img' is not defined",
     "output_type": "error",
     "traceback": [
      "\u001b[0;31m---------------------------------------------------------------------------\u001b[0m",
      "\u001b[0;31mNameError\u001b[0m                                 Traceback (most recent call last)",
      "Cell \u001b[0;32mIn [6], line 1\u001b[0m\n\u001b[0;32m----> 1\u001b[0m imgplot \u001b[38;5;241m=\u001b[39m plt\u001b[38;5;241m.\u001b[39mimshow(lum_img)\n\u001b[1;32m      2\u001b[0m plt\u001b[38;5;241m.\u001b[39mcolorbar()\n",
      "\u001b[0;31mNameError\u001b[0m: name 'lum_img' is not defined"
     ]
    }
   ],
   "source": [
    "imgplot = plt.imshow(lum_img)\n",
    "plt.colorbar()"
   ]
  },
  {
   "cell_type": "markdown",
   "metadata": {},
   "source": [
    "\n",
    "### Examining a specific data range\n",
    "\n",
    "Sometimes you want to enhance the contrast in your image, or expand\n",
    "the contrast in a particular region while sacrificing the detail in\n",
    "colors that don't vary much, or don't matter.  A good tool to find\n",
    "interesting regions is the histogram.  To create a histogram of our\n",
    "image data, we use the :func:`~matplotlib.pyplot.hist` function.\n",
    "\n"
   ]
  },
  {
   "cell_type": "code",
   "execution_count": 7,
   "metadata": {
    "collapsed": false,
    "jupyter": {
     "outputs_hidden": false
    }
   },
   "outputs": [
    {
     "ename": "NameError",
     "evalue": "name 'lum_img' is not defined",
     "output_type": "error",
     "traceback": [
      "\u001b[0;31m---------------------------------------------------------------------------\u001b[0m",
      "\u001b[0;31mNameError\u001b[0m                                 Traceback (most recent call last)",
      "Cell \u001b[0;32mIn [7], line 1\u001b[0m\n\u001b[0;32m----> 1\u001b[0m plt\u001b[38;5;241m.\u001b[39mhist(lum_img\u001b[38;5;241m.\u001b[39mravel(), bins\u001b[38;5;241m=\u001b[39m\u001b[38;5;241m256\u001b[39m, \u001b[38;5;28mrange\u001b[39m\u001b[38;5;241m=\u001b[39m(\u001b[38;5;241m0.0\u001b[39m, \u001b[38;5;241m1.0\u001b[39m), fc\u001b[38;5;241m=\u001b[39m\u001b[38;5;124m'\u001b[39m\u001b[38;5;124mk\u001b[39m\u001b[38;5;124m'\u001b[39m, ec\u001b[38;5;241m=\u001b[39m\u001b[38;5;124m'\u001b[39m\u001b[38;5;124mk\u001b[39m\u001b[38;5;124m'\u001b[39m)\n",
      "\u001b[0;31mNameError\u001b[0m: name 'lum_img' is not defined"
     ]
    }
   ],
   "source": [
    "plt.hist(lum_img.ravel(), bins=256, range=(0.0, 1.0), fc='k', ec='k')"
   ]
  },
  {
   "cell_type": "markdown",
   "metadata": {},
   "source": [
    "Most often, the \"interesting\" part of the image is around the peak,\n",
    "and you can get extra contrast by clipping the regions above and/or\n",
    "below the peak.  In our histogram, it looks like there's not much\n",
    "useful information in the high end (not many white things in the\n",
    "image).  Let's adjust the upper limit, so that we effectively \"zoom in\n",
    "on\" part of the histogram.  We do this by passing the clim argument to\n",
    "imshow.  You could also do this by calling the\n",
    ":meth:`~matplotlib.cm.ScalarMappable.set_clim` method of the image plot\n",
    "object, but make sure that you do so in the same cell as your plot\n",
    "command when working with the Jupyter Notebook - it will not change\n",
    "plots from earlier cells.\n",
    "\n",
    "You can specify the clim in the call to ``plot``.\n",
    "\n"
   ]
  },
  {
   "cell_type": "code",
   "execution_count": 8,
   "metadata": {
    "collapsed": false,
    "jupyter": {
     "outputs_hidden": false
    }
   },
   "outputs": [
    {
     "ename": "NameError",
     "evalue": "name 'lum_img' is not defined",
     "output_type": "error",
     "traceback": [
      "\u001b[0;31m---------------------------------------------------------------------------\u001b[0m",
      "\u001b[0;31mNameError\u001b[0m                                 Traceback (most recent call last)",
      "Cell \u001b[0;32mIn [8], line 1\u001b[0m\n\u001b[0;32m----> 1\u001b[0m imgplot \u001b[38;5;241m=\u001b[39m plt\u001b[38;5;241m.\u001b[39mimshow(lum_img, clim\u001b[38;5;241m=\u001b[39m(\u001b[38;5;241m0.0\u001b[39m, \u001b[38;5;241m0.7\u001b[39m))\n",
      "\u001b[0;31mNameError\u001b[0m: name 'lum_img' is not defined"
     ]
    }
   ],
   "source": [
    "imgplot = plt.imshow(lum_img, clim=(0.0, 0.7))"
   ]
  },
  {
   "cell_type": "markdown",
   "metadata": {},
   "source": [
    "You can also specify the clim using the returned object\n",
    "\n"
   ]
  },
  {
   "cell_type": "code",
   "execution_count": 9,
   "metadata": {
    "collapsed": false,
    "jupyter": {
     "outputs_hidden": false
    }
   },
   "outputs": [
    {
     "ename": "NameError",
     "evalue": "name 'lum_img' is not defined",
     "output_type": "error",
     "traceback": [
      "\u001b[0;31m---------------------------------------------------------------------------\u001b[0m",
      "\u001b[0;31mNameError\u001b[0m                                 Traceback (most recent call last)",
      "Cell \u001b[0;32mIn [9], line 3\u001b[0m\n\u001b[1;32m      1\u001b[0m fig \u001b[38;5;241m=\u001b[39m plt\u001b[38;5;241m.\u001b[39mfigure()\n\u001b[1;32m      2\u001b[0m ax \u001b[38;5;241m=\u001b[39m fig\u001b[38;5;241m.\u001b[39madd_subplot(\u001b[38;5;241m1\u001b[39m, \u001b[38;5;241m2\u001b[39m, \u001b[38;5;241m1\u001b[39m)\n\u001b[0;32m----> 3\u001b[0m imgplot \u001b[38;5;241m=\u001b[39m plt\u001b[38;5;241m.\u001b[39mimshow(lum_img)\n\u001b[1;32m      4\u001b[0m ax\u001b[38;5;241m.\u001b[39mset_title(\u001b[38;5;124m'\u001b[39m\u001b[38;5;124mBefore\u001b[39m\u001b[38;5;124m'\u001b[39m)\n\u001b[1;32m      5\u001b[0m plt\u001b[38;5;241m.\u001b[39mcolorbar(ticks\u001b[38;5;241m=\u001b[39m[\u001b[38;5;241m0.1\u001b[39m, \u001b[38;5;241m0.3\u001b[39m, \u001b[38;5;241m0.5\u001b[39m, \u001b[38;5;241m0.7\u001b[39m], orientation\u001b[38;5;241m=\u001b[39m\u001b[38;5;124m'\u001b[39m\u001b[38;5;124mhorizontal\u001b[39m\u001b[38;5;124m'\u001b[39m)\n",
      "\u001b[0;31mNameError\u001b[0m: name 'lum_img' is not defined"
     ]
    },
    {
     "data": {
      "image/png": "[encoded data removed]",
      "text/plain": [
       "<Figure size 640x480 with 1 Axes>"
      ]
     },
     "metadata": {},
     "output_type": "display_data"
    }
   ],
   "source": [
    "fig = plt.figure()\n",
    "ax = fig.add_subplot(1, 2, 1)\n",
    "imgplot = plt.imshow(lum_img)\n",
    "ax.set_title('Before')\n",
    "plt.colorbar(ticks=[0.1, 0.3, 0.5, 0.7], orientation='horizontal')\n",
    "ax = fig.add_subplot(1, 2, 2)\n",
    "imgplot = plt.imshow(lum_img)\n",
    "imgplot.set_clim(0.0, 0.7)\n",
    "ax.set_title('After')\n",
    "plt.colorbar(ticks=[0.1, 0.3, 0.5, 0.7], orientation='horizontal')"
   ]
  },
  {
   "cell_type": "markdown",
   "metadata": {},
   "source": [
    "\n",
    "### Array Interpolation schemes\n",
    "\n",
    "Interpolation calculates what the color or value of a pixel \"should\"\n",
    "be, according to different mathematical schemes.  One common place\n",
    "that this happens is when you resize an image.  The number of pixels\n",
    "change, but you want the same information.  Since pixels are discrete,\n",
    "there's missing space.  Interpolation is how you fill that space.\n",
    "This is why your images sometimes come out looking pixelated when you\n",
    "blow them up.  The effect is more pronounced when the difference\n",
    "between the original image and the expanded image is greater.  Let's\n",
    "take our image and shrink it.  We're effectively discarding pixels,\n",
    "only keeping a select few.  Now when we plot it, that data gets blown\n",
    "up to the size on your screen.  The old pixels aren't there anymore,\n",
    "and the computer has to draw in pixels to fill that space.\n",
    "\n",
    "We'll use the Pillow library that we used to load the image also to resize\n",
    "the image.\n",
    "\n"
   ]
  },
  {
   "cell_type": "code",
   "execution_count": 10,
   "metadata": {
    "collapsed": false,
    "jupyter": {
     "outputs_hidden": false
    }
   },
   "outputs": [
    {
     "ename": "FileNotFoundError",
     "evalue": "[Errno 2] No such file or directory: '../../doc/_static/stinkbug.png'",
     "output_type": "error",
     "traceback": [
      "\u001b[0;31m---------------------------------------------------------------------------\u001b[0m",
      "\u001b[0;31mFileNotFoundError\u001b[0m                         Traceback (most recent call last)",
      "Cell \u001b[0;32mIn [10], line 3\u001b[0m\n\u001b[1;32m      1\u001b[0m \u001b[38;5;28;01mfrom\u001b[39;00m \u001b[38;5;21;01mPIL\u001b[39;00m \u001b[38;5;28;01mimport\u001b[39;00m Image\n\u001b[0;32m----> 3\u001b[0m img \u001b[38;5;241m=\u001b[39m Image\u001b[38;5;241m.\u001b[39mopen(\u001b[38;5;124m'\u001b[39m\u001b[38;5;124m../../doc/_static/stinkbug.png\u001b[39m\u001b[38;5;124m'\u001b[39m)\n\u001b[1;32m      4\u001b[0m img\u001b[38;5;241m.\u001b[39mthumbnail((\u001b[38;5;241m64\u001b[39m, \u001b[38;5;241m64\u001b[39m))  \u001b[38;5;66;03m# resizes image in-place\u001b[39;00m\n\u001b[1;32m      5\u001b[0m imgplot \u001b[38;5;241m=\u001b[39m plt\u001b[38;5;241m.\u001b[39mimshow(img)\n",
      "File \u001b[0;32m/opt/homebrew/lib/python3.10/site-packages/PIL/Image.py:3092\u001b[0m, in \u001b[0;36mopen\u001b[0;34m(fp, mode, formats)\u001b[0m\n\u001b[1;32m   3089\u001b[0m     filename \u001b[38;5;241m=\u001b[39m fp\n\u001b[1;32m   3091\u001b[0m \u001b[38;5;28;01mif\u001b[39;00m filename:\n\u001b[0;32m-> 3092\u001b[0m     fp \u001b[38;5;241m=\u001b[39m \u001b[43mbuiltins\u001b[49m\u001b[38;5;241;43m.\u001b[39;49m\u001b[43mopen\u001b[49m\u001b[43m(\u001b[49m\u001b[43mfilename\u001b[49m\u001b[43m,\u001b[49m\u001b[43m \u001b[49m\u001b[38;5;124;43m\"\u001b[39;49m\u001b[38;5;124;43mrb\u001b[39;49m\u001b[38;5;124;43m\"\u001b[39;49m\u001b[43m)\u001b[49m\n\u001b[1;32m   3093\u001b[0m     exclusive_fp \u001b[38;5;241m=\u001b[39m \u001b[38;5;28;01mTrue\u001b[39;00m\n\u001b[1;32m   3095\u001b[0m \u001b[38;5;28;01mtry\u001b[39;00m:\n",
      "\u001b[0;31mFileNotFoundError\u001b[0m: [Errno 2] No such file or directory: '../../doc/_static/stinkbug.png'"
     ]
    }
   ],
   "source": [
    "from PIL import Image\n",
    "\n",
    "img = Image.open('../../doc/_static/stinkbug.png')\n",
    "img.thumbnail((64, 64))  # resizes image in-place\n",
    "imgplot = plt.imshow(img)"
   ]
  },
  {
   "cell_type": "markdown",
   "metadata": {},
   "source": [
    "Here we have the default interpolation, bilinear, since we did not\n",
    "give :func:`~matplotlib.pyplot.imshow` any interpolation argument.\n",
    "\n",
    "Let's try some others. Here's \"nearest\", which does no interpolation.\n",
    "\n"
   ]
  },
  {
   "cell_type": "code",
   "execution_count": null,
   "metadata": {
    "collapsed": false,
    "jupyter": {
     "outputs_hidden": false
    }
   },
   "outputs": [],
   "source": [
    "imgplot = plt.imshow(img, interpolation=\"nearest\")"
   ]
  },
  {
   "cell_type": "markdown",
   "metadata": {},
   "source": [
    "and bicubic:\n",
    "\n"
   ]
  },
  {
   "cell_type": "code",
   "execution_count": 11,
   "metadata": {
    "collapsed": false,
    "jupyter": {
     "outputs_hidden": false
    }
   },
   "outputs": [
    {
     "ename": "NameError",
     "evalue": "name 'img' is not defined",
     "output_type": "error",
     "traceback": [
      "\u001b[0;31m---------------------------------------------------------------------------\u001b[0m",
      "\u001b[0;31mNameError\u001b[0m                                 Traceback (most recent call last)",
      "Cell \u001b[0;32mIn [11], line 1\u001b[0m\n\u001b[0;32m----> 1\u001b[0m imgplot \u001b[38;5;241m=\u001b[39m plt\u001b[38;5;241m.\u001b[39mimshow(img, interpolation\u001b[38;5;241m=\u001b[39m\u001b[38;5;124m\"\u001b[39m\u001b[38;5;124mbicubic\u001b[39m\u001b[38;5;124m\"\u001b[39m)\n",
      "\u001b[0;31mNameError\u001b[0m: name 'img' is not defined"
     ]
    }
   ],
   "source": [
    "imgplot = plt.imshow(img, interpolation=\"bicubic\")"
   ]
  },
  {
   "cell_type": "markdown",
   "metadata": {},
   "source": [
    "Bicubic interpolation is often used when blowing up photos - people\n",
    "tend to prefer blurry over pixelated.\n",
    "\n"
   ]
  },
  {
   "cell_type": "code",
   "execution_count": null,
   "metadata": {},
   "outputs": [],
   "source": []
  },
  {
   "cell_type": "code",
   "execution_count": null,
   "metadata": {},
   "outputs": [],
   "source": []
  },
  {
   "cell_type": "code",
   "execution_count": null,
   "metadata": {},
   "outputs": [],
   "source": []
  }
 ],
 "metadata": {
  "kernelspec": {
   "display_name": "Python 3 (ipykernel)",
   "language": "python",
   "name": "python3"
  },
  "language_info": {
   "codemirror_mode": {
    "name": "ipython",
    "version": 3
   },
   "file_extension": ".py",
   "mimetype": "text/x-python",
   "name": "python",
   "nbconvert_exporter": "python",
   "pygments_lexer": "ipython3",
   "version": "3.10.6"
  }
 },
 "nbformat": 4,
 "nbformat_minor": 4
}
