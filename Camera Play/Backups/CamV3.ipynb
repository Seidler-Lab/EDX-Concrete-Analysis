{
 "cells": [
  {
   "cell_type": "code",
   "execution_count": 2,
   "id": "a4641703-7c7a-4fdc-8a01-5b1ad0bd89ed",
   "metadata": {},
   "outputs": [
    {
     "name": "stdout",
     "output_type": "stream",
     "text": [
      "Pretty printing has been turned OFF\n"
     ]
    }
   ],
   "source": [
    "import numpy as np\n",
    "import os\n",
    "import pandas as pd\n",
    "import matplotlib as mpl\n",
    "from pathlib import Path\n",
    "from PIL import Image\n",
    "\n",
    "%matplotlib inline\n",
    "%pprint"
   ]
  },
  {
   "cell_type": "code",
   "execution_count": 43,
   "id": "18188b13-f554-4471-9d9a-b6287ae067b1",
   "metadata": {},
   "outputs": [],
   "source": [
    "class camimage:\n",
    "    \n",
    "    rotation = 0\n",
    "    normalization = 1\n",
    "    pixsize = 55\n",
    "    \n",
    "    def __init__(self, angle, listoflists):\n",
    "        self.angle = angle\n",
    "        self.listoflists = listoflists\n",
    "        \n",
    "    def get_name(self): return (str(self.angle) + ' Degrees')\n",
    "    def get_xpixct(self): return (len(self.listoflists[0]))\n",
    "    def get_ypixct(self): return (len(self.listoflists))\n",
    "    def get_pixct(self): return (self.get_xpixct() * self.get_ypixct())\n",
    "    def get_dim(self): return str(self.get_xpixct()*self.pixsize) + ' um x ' + str(self.get_ypixct()*self.pixsize) + ' mm'\n",
    "    def get_res(self): return (self.get_xpixct(),self.get_ypixct())\n",
    "    def get_rot(self): return self.rotation\n",
    "    def get_norm(self): return self.normalization\n",
    "    def get_pixsize(self): return str(self.pixsize) + ' um'\n",
    "    def get_base_nparray(self): return np.array(self.listoflists)\n",
    "    def get_nparray(self): return np.rot90((self.get_base_nparray()*(self.get_norm())), int(self.get_rot()/90), (-1,0)) \n",
    "    def get_maxcounts(self):\n",
    "        maxcount = 0\n",
    "        xylist = self.listoflists\n",
    "        for x in range(len(xylist)):\n",
    "            for y in range(len(xylist[0])):\n",
    "                if xylist[x][y] > maxcount:\n",
    "                    maxcount = xylist[x][y]\n",
    "        return maxcount\n",
    "        \n",
    "    def set_pixsize(self, dim): self.pixsize = dim \n",
    "    def set_norm(self, const): self.normalization = const\n",
    "    def set_norm_to_max(self): self.normalization = self.get_maxcounts()\n",
    "    def set_rot(self, n90): \n",
    "        if (n90 == 0 or n90 == 90 or n90 == 180 or n90 == 270): self.rotation = n90 \n",
    "        else: return print('Error: Rotate must be set to 0, 90, 180, or 270 degrees')\n",
    "            \n",
    "def file_list(directory, ftype):\n",
    "    allflist = sorted(os.listdir(directory))\n",
    "    flistlen = len(allflist)\n",
    "    flist = []\n",
    "    for x in range(flistlen):\n",
    "        if allflist[x].endswith(str(ftype)):\n",
    "            flist.append(allflist[x])\n",
    "    return flist\n",
    "\n",
    "def txt_to_list(file):\n",
    "    rows = []\n",
    "    processedrows = []\n",
    "    with open(file, 'r') as f:\n",
    "        listofrows = f.read().split('\\n')\n",
    "        f.close()\n",
    "    for i in range(len(listofrows)):\n",
    "        rowcrawler = []\n",
    "        rawrow = listofrows[i].split('\\t')\n",
    "        rowlength = len(rawrow)\n",
    "        for j in range(rowlength):\n",
    "            if rawrow[j] != '':\n",
    "                rowcrawler.append(int(rawrow[j]))\n",
    "        rows.append(rowcrawler)\n",
    "\n",
    "    #rows is a list of lists, where each entry (i.e. rows[0] is a list reading pixels horizontally across camera\n",
    "    #rows[5] is a list of each value of every pixel in the 6th row of the image\n",
    "    #rows[x] has ditched the empty value at the end of each list. But there are 257 rows, not 256. So I need to check that\n",
    "    #the last row is a real value and not junk\n",
    "\n",
    "    for j in range(len(rows)):\n",
    "        if bool(rows[j]):\n",
    "            processedrows.append(rows[j])\n",
    "        \n",
    "    # For example, consider:\n",
    "    #     1 2 3\n",
    "    #     4 5 6\n",
    "    #     7 8 9\n",
    "    # as a 3x3 pixel camera image. processedrows[0] = [1, 2, 3], and processedrows[2] = [7, 8, 9]\n",
    "    # processed processedrows[hz index][vt index] accesses that pixel, so processedrows[1][2] = 6\n",
    "    \n",
    "    return processedrows\n",
    "\n",
    "# def generate_camimage_set(directory, ftype):\n",
    "#     return\n",
    "                  "
   ]
  },
  {
   "cell_type": "code",
   "execution_count": 44,
   "id": "41aaee99-8304-4eb2-a149-4e4cd3d864a5",
   "metadata": {},
   "outputs": [
    {
     "name": "stdout",
     "output_type": "stream",
     "text": [
      "[[81 72 63]\n",
      " [54 45 36]\n",
      " [27 18  9]]\n"
     ]
    }
   ],
   "source": [
    "y = [[1,2,3],[4,5,6],[7,8,9]]\n",
    "testy = camimage(50, y)\n",
    "testy.set_rot(180)\n",
    "testy.set_norm(testy.get_maxcounts())\n",
    "print(testy.get_nparray())"
   ]
  },
  {
   "cell_type": "code",
   "execution_count": null,
   "id": "3a6aeea6-2d5c-483c-b13c-d27cb0777401",
   "metadata": {},
   "outputs": [],
   "source": []
  },
  {
   "cell_type": "code",
   "execution_count": 31,
   "id": "c83e64d4-6c4f-4caf-9151-f2cc4e099adc",
   "metadata": {},
   "outputs": [
    {
     "name": "stdout",
     "output_type": "stream",
     "text": [
      "50 Degrees\n",
      "3\n",
      "3\n",
      "9\n",
      "165 um x 165 mm\n",
      "(3, 3)\n",
      "180\n",
      "1\n",
      "55 um\n",
      "9\n"
     ]
    }
   ],
   "source": [
    "print(testy.get_name())\n",
    "print(testy.get_xpixct())\n",
    "print(testy.get_ypixct())\n",
    "print(testy.get_pixct())\n",
    "print(testy.get_dim())\n",
    "print(testy.get_res())\n",
    "print(testy.get_rot())\n",
    "print(testy.get_norm())\n",
    "print(testy.get_pixsize())\n",
    "print(testy.get_maxcounts())\n"
   ]
  },
  {
   "cell_type": "code",
   "execution_count": 61,
   "id": "3380a631-c2f0-481d-9e5e-a0613d29598e",
   "metadata": {},
   "outputs": [],
   "source": [
    "testy.set_norm(10)\n",
    "testy.set_rot(90)\n",
    "testy.set_pixsize(55)\n",
    "testy.set_norm_to_max()"
   ]
  },
  {
   "cell_type": "code",
   "execution_count": 23,
   "id": "5cf11f24-038c-4429-b52e-dd401de10738",
   "metadata": {},
   "outputs": [
    {
     "ename": "AttributeError",
     "evalue": "'camimage' object has no attribute 'picture'",
     "output_type": "error",
     "traceback": [
      "\u001b[0;31m---------------------------------------------------------------------------\u001b[0m",
      "\u001b[0;31mAttributeError\u001b[0m                            Traceback (most recent call last)",
      "Cell \u001b[0;32mIn [23], line 6\u001b[0m\n\u001b[1;32m      3\u001b[0m deg80 \u001b[38;5;241m=\u001b[39m txt_to_list(\u001b[38;5;124m'\u001b[39m\u001b[38;5;124m/Users/anthonygironda/Desktop/Rowland_Tracking/80_deg.txt\u001b[39m\u001b[38;5;124m'\u001b[39m)\n\u001b[1;32m      4\u001b[0m p2 \u001b[38;5;241m=\u001b[39m camimage(\u001b[38;5;241m80\u001b[39m, deg80)\n\u001b[0;32m----> 6\u001b[0m p1\u001b[38;5;241m.\u001b[39mpicture()\n",
      "\u001b[0;31mAttributeError\u001b[0m: 'camimage' object has no attribute 'picture'"
     ]
    }
   ],
   "source": [
    "deg40 = txt_to_list('/Users/anthonygironda/Desktop/Rowland_Tracking/40_deg.txt')\n",
    "p1 = camimage(40, deg40)\n",
    "deg80 = txt_to_list('/Users/anthonygironda/Desktop/Rowland_Tracking/80_deg.txt')\n",
    "p2 = camimage(80, deg80)\n",
    "\n",
    "p1.picture()"
   ]
  },
  {
   "cell_type": "code",
   "execution_count": 5,
   "id": "6c863d35-335b-4763-9898-1a503e4629dd",
   "metadata": {},
   "outputs": [
    {
     "name": "stdout",
     "output_type": "stream",
     "text": [
      "80\n",
      "80 Degrees\n"
     ]
    },
    {
     "ename": "AttributeError",
     "evalue": "'camimage' object has no attribute 'get_nparray'",
     "output_type": "error",
     "traceback": [
      "\u001b[0;31m---------------------------------------------------------------------------\u001b[0m",
      "\u001b[0;31mAttributeError\u001b[0m                            Traceback (most recent call last)",
      "Cell \u001b[0;32mIn [5], line 7\u001b[0m\n\u001b[1;32m      3\u001b[0m \u001b[38;5;66;03m#print(p2.listoflists)\u001b[39;00m\n\u001b[1;32m      4\u001b[0m \n\u001b[1;32m      5\u001b[0m \u001b[38;5;66;03m#calculated properties\u001b[39;00m\n\u001b[1;32m      6\u001b[0m \u001b[38;5;28mprint\u001b[39m(p2\u001b[38;5;241m.\u001b[39mget_name)\n\u001b[0;32m----> 7\u001b[0m \u001b[38;5;28mprint\u001b[39m(p2\u001b[38;5;241m.\u001b[39mget_nparray)\n\u001b[1;32m      8\u001b[0m \u001b[38;5;28mprint\u001b[39m(p2\u001b[38;5;241m.\u001b[39mget_xpixct)\n\u001b[1;32m      9\u001b[0m \u001b[38;5;28mprint\u001b[39m(p2\u001b[38;5;241m.\u001b[39mget_ypixct)\n",
      "\u001b[0;31mAttributeError\u001b[0m: 'camimage' object has no attribute 'get_nparray'"
     ]
    }
   ],
   "source": [
    "#intrinsic instantiaion properties\n",
    "print(p2.angle)\n",
    "#print(p2.listoflists)\n",
    "\n",
    "#calculated properties\n",
    "print(p2.get_name)\n",
    "print(p2.get_nparray)\n",
    "print(p2.get_xpixct)\n",
    "print(p2.get_ypixct)\n",
    "print(p2.get_dim)\n",
    "print(p2.get_res)\n",
    "print(p2.get_pixct)\n",
    "\n",
    "#reading attributes\n",
    "print(p2.rotation)\n",
    "print(p2.normalization)\n",
    "print(p2.get_pixsize)"
   ]
  },
  {
   "cell_type": "code",
   "execution_count": 70,
   "id": "71b47726-5b4b-4585-be1d-1de88239c228",
   "metadata": {},
   "outputs": [
    {
     "data": {
      "text/plain": [
       "0"
      ]
     },
     "execution_count": 70,
     "metadata": {},
     "output_type": "execute_result"
    }
   ],
   "source": [
    "p2.set_rotation(-270)\n",
    "p2.rotation\n",
    "p1.rotation"
   ]
  },
  {
   "cell_type": "code",
   "execution_count": 11,
   "id": "7dd8d726-8cdf-4de4-9e1e-38d229dd4cd1",
   "metadata": {},
   "outputs": [
    {
     "ename": "NameError",
     "evalue": "name 't2' is not defined",
     "output_type": "error",
     "traceback": [
      "\u001b[0;31m---------------------------------------------------------------------------\u001b[0m",
      "\u001b[0;31mNameError\u001b[0m                                 Traceback (most recent call last)",
      "Cell \u001b[0;32mIn [11], line 6\u001b[0m\n\u001b[1;32m      4\u001b[0m t1\u001b[38;5;241m.\u001b[39mrotation \u001b[38;5;241m=\u001b[39m \u001b[38;5;241m1\u001b[39m\n\u001b[1;32m      5\u001b[0m \u001b[38;5;66;03m#t1.rotation\u001b[39;00m\n\u001b[0;32m----> 6\u001b[0m t2\u001b[38;5;241m.\u001b[39mrotation\n",
      "\u001b[0;31mNameError\u001b[0m: name 't2' is not defined"
     ]
    }
   ],
   "source": [
    "test = [[0,2,3],[4,0,6],[7,8,0]]\n",
    "t1 = camimage(100, test)\n",
    "t1.normalize()\n",
    "t1.rotation = 1\n",
    "#t1.rotation\n",
    "t2.rotation"
   ]
  },
  {
   "cell_type": "code",
   "execution_count": 12,
   "id": "e103317c-a7f5-4f1c-9fc7-12671010411a",
   "metadata": {},
   "outputs": [
    {
     "name": "stdout",
     "output_type": "stream",
     "text": [
      "[[0, 2, 3], [4, 0, 6], [7, 8, 0]]\n"
     ]
    },
    {
     "ename": "AttributeError",
     "evalue": "'camimage' object has no attribute 'rotate'",
     "output_type": "error",
     "traceback": [
      "\u001b[0;31m---------------------------------------------------------------------------\u001b[0m",
      "\u001b[0;31mAttributeError\u001b[0m                            Traceback (most recent call last)",
      "Cell \u001b[0;32mIn [12], line 5\u001b[0m\n\u001b[1;32m      2\u001b[0m t1 \u001b[38;5;241m=\u001b[39m camimage(\u001b[38;5;241m100\u001b[39m, test)\n\u001b[1;32m      4\u001b[0m \u001b[38;5;28mprint\u001b[39m(t1\u001b[38;5;241m.\u001b[39mlistoflists)\n\u001b[0;32m----> 5\u001b[0m t2 \u001b[38;5;241m=\u001b[39m t1\u001b[38;5;241m.\u001b[39mrotate(\u001b[38;5;241m90\u001b[39m)\n\u001b[1;32m      6\u001b[0m t3 \u001b[38;5;241m=\u001b[39m t2\u001b[38;5;241m.\u001b[39mrotate(\u001b[38;5;241m90\u001b[39m)\n\u001b[1;32m      7\u001b[0m t4 \u001b[38;5;241m=\u001b[39m t3\u001b[38;5;241m.\u001b[39mrotate(\u001b[38;5;241m90\u001b[39m)\n",
      "\u001b[0;31mAttributeError\u001b[0m: 'camimage' object has no attribute 'rotate'"
     ]
    }
   ],
   "source": [
    "test = [[0,2,3],[4,0,6],[7,8,0]]\n",
    "t1 = camimage(100, test)\n",
    "\n",
    "print(t1.listoflists)\n",
    "t2 = t1.rotate(90)\n",
    "t3 = t2.rotate(90)\n",
    "t4 = t3.rotate(90)\n",
    "t5 = t4.rotate(90)\n",
    "\n",
    "print('\\n')\n",
    "print(t2.listoflists)\n",
    "print('\\n')\n",
    "print(t3.listoflists)\n",
    "print('\\n')\n",
    "print(t4.listoflists)\n",
    "print('\\n')\n",
    "print(t5.listoflists)\n",
    "\n",
    "#print(t1.rotate(90))"
   ]
  },
  {
   "cell_type": "code",
   "execution_count": 91,
   "id": "1b86061f-e027-4956-8359-3404a9326265",
   "metadata": {},
   "outputs": [
    {
     "data": {
      "image/png": "[encoded data removed]",
      "text/plain": [
       "<PIL.Image.Image image mode=L size=3x3>"
      ]
     },
     "execution_count": 91,
     "metadata": {},
     "output_type": "execute_result"
    }
   ],
   "source": [
    "t3.img()"
   ]
  },
  {
   "cell_type": "code",
   "execution_count": 109,
   "id": "a2e0152f-8276-4b11-9d6c-1a0dc7dd2db2",
   "metadata": {},
   "outputs": [
    {
     "data": {
      "text/plain": [
       "371"
      ]
     },
     "execution_count": 109,
     "metadata": {},
     "output_type": "execute_result"
    }
   ],
   "source": [
    "deg40 = txt_to_list('/Users/anthonygironda/Desktop/Rowland_Tracking/83_deg.txt')\n",
    "p1 = camimage(80, deg40)\n",
    "p1.img()\n",
    "p1.rotate(90)\n",
    "p1.img()\n",
    "# im.fromarray(p1.p1.rotate(90)imagearray)\n",
    "img = p1.img()\n",
    "img.resize(size=(700, 700))\n",
    "p1.normalize()\n"
   ]
  },
  {
   "cell_type": "code",
   "execution_count": 143,
   "id": "db5cdb0c-a112-44c7-a4a6-002dc6abb57a",
   "metadata": {},
   "outputs": [
    {
     "ename": "IndentationError",
     "evalue": "unexpected indent (786360885.py, line 2)",
     "output_type": "error",
     "traceback": [
      "\u001b[0;36m  Cell \u001b[0;32mIn [143], line 2\u001b[0;36m\u001b[0m\n\u001b[0;31m    self.angle = angle\u001b[0m\n\u001b[0m    ^\u001b[0m\n\u001b[0;31mIndentationError\u001b[0m\u001b[0;31m:\u001b[0m unexpected indent\n"
     ]
    }
   ],
   "source": [
    "        self.name = str(angle) + ' Degrees'\n",
    "        self.angle = angle\n",
    "        self.listoflists = listoflists\n",
    "        self.imgarray = np.array(listoflists, dtype=np.uint8)\n",
    "        self.xpixct = len(listoflists[0])\n",
    "        self.ypixct = len(listoflists)\n",
    "        self.dim = (len(listoflists[0]), len(listoflists))\n",
    "        self.resolution = str(self.xpixct) + 'x' + str(self.ypixct)\n",
    "        self.pixels = self.pixct*self.ypixct\n",
    "        self.ftype = str(ftype)"
   ]
  },
  {
   "cell_type": "code",
   "execution_count": 21,
   "id": "4dd436db-6d39-4716-94a7-4312756d19cf",
   "metadata": {},
   "outputs": [
    {
     "ename": "AttributeError",
     "evalue": "'camimage' object has no attribute 'imagearray'",
     "output_type": "error",
     "traceback": [
      "\u001b[0;31m---------------------------------------------------------------------------\u001b[0m",
      "\u001b[0;31mAttributeError\u001b[0m                            Traceback (most recent call last)",
      "Cell \u001b[0;32mIn [21], line 4\u001b[0m\n\u001b[1;32m      2\u001b[0m picture1 \u001b[38;5;241m=\u001b[39m camimage(\u001b[38;5;241m40\u001b[39m, deg40)\n\u001b[1;32m      3\u001b[0m \u001b[38;5;66;03m# adjpic = rotate(picture1, 90)\u001b[39;00m\n\u001b[0;32m----> 4\u001b[0m Image\u001b[38;5;241m.\u001b[39mfromarray(picture1\u001b[38;5;241m.\u001b[39mimagearray)\n",
      "\u001b[0;31mAttributeError\u001b[0m: 'camimage' object has no attribute 'imagearray'"
     ]
    }
   ],
   "source": [
    "deg40 = txt_to_list('/Users/anthonygironda/Desktop/Rowland_Tracking/40_deg.txt')\n",
    "picture1 = camimage(40, deg40)\n",
    "# adjpic = rotate(picture1, 90)\n",
    "im.fromarray(picture1.imagearray)\n",
    "\n",
    "#pic2=picture1.rotate(90)\n",
    "#im.fromarray(pic2.imagearray)\n",
    "#im.fromarray(picture1.rotate(90))"
   ]
  },
  {
   "cell_type": "code",
   "execution_count": 48,
   "id": "46767fce-2f01-4004-baac-b8ccf89ba512",
   "metadata": {},
   "outputs": [
    {
     "name": "stdout",
     "output_type": "stream",
     "text": [
      "None\n"
     ]
    }
   ],
   "source": [
    "\n",
    "deg35 = txt_to_list('/Users/anthonygironda/Desktop/Rowland_Tracking/83_deg.txt')\n",
    "array = np.array(deg35, dtype=np.uint8)\n",
    "print(get_xy_length(deg35))\n",
    "#im.fromarray(array)"
   ]
  },
  {
   "cell_type": "code",
   "execution_count": 39,
   "id": "f5eb652d-c030-4794-9bb5-5d13518e5133",
   "metadata": {},
   "outputs": [],
   "source": [
    "array = np.array(deg35, dtype=np.uint8)\n",
    "#im.fromarray(array)\n"
   ]
  },
  {
   "cell_type": "code",
   "execution_count": 447,
   "id": "d3e36691-474c-4b73-94ac-b5f27e14ee0d",
   "metadata": {},
   "outputs": [
    {
     "data": {
      "text/plain": [
       "[4, 4, 4, 6, 2, 4, 4, 2, 5, 6, 0, 3, 4, 2, 4, 4, 6, 11, 4, 5, 4, 3, 4, 1, 6, 7, 7, 12, 2, 5, 6, 4, 4, 2, 4, 4, 4, 5, 3, 1, 3, 6, 1, 3, 6, 5, 4, 4, 5, 1, 2, 6, 6, 5, 5, 8, 6, 4, 5, 3, 3, 7, 3, 5, 6, 4, 10, 2, 2, 2, 2, 4, 2, 3, 4, 6, 3, 2, 3, 5, 3, 8, 5, 6, 6, 8, 4, 3, 2, 5, 4, 3, 4, 5, 8, 6, 3, 4, 3, 6, 2, 7, 5, 8, 2, 9, 4, 6, 11, 2, 9, 6, 6, 7, 5, 8, 9, 6, 9, 7, 8, 12, 12, 8, 10, 9, 13, 11, 23, 39, 60, 78, 76, 74, 109, 104, 141, 133, 142, 146, 126, 171, 187, 231, 208, 220, 207, 215, 213, 222, 217, 224, 234, 236, 263, 238, 233, 219, 254, 271, 256, 220, 237, 119, 60, 154, 247, 226, 231, 253, 230, 272, 224, 277, 256, 224, 270, 268, 259, 262, 261, 272, 254, 256, 290, 221, 217, 227, 210, 223, 178, 159, 183, 140, 129, 134, 112, 104, 76, 80, 74, 54, 50, 25, 24, 21, 14, 11, 11, 14, 10, 8, 14, 8, 7, 12, 14, 4, 14, 8, 6, 17, 9, 10, 9, 11, 6, 8, 15, 6, 11, 12, 8, 11, 9, 11, 5, 3, 12, 9, 8, 8, 12, 14, 7, 11, 11, 8, 7, 0, 7, 7, 5, 9, 8, 0]"
      ]
     },
     "execution_count": 447,
     "metadata": {},
     "output_type": "execute_result"
    }
   ],
   "source": [
    "deg35[74]"
   ]
  },
  {
   "cell_type": "code",
   "execution_count": null,
   "id": "5af69f95-9622-4205-ba3a-8a52f4cb0eac",
   "metadata": {},
   "outputs": [],
   "source": []
  },
  {
   "cell_type": "code",
   "execution_count": 351,
   "id": "befc1a87-8c9f-4e6f-ad2b-661e94d4c859",
   "metadata": {},
   "outputs": [
    {
     "name": "stdout",
     "output_type": "stream",
     "text": [
      "/Users/anthonygironda/Desktop/Rowland_Tracking/50_deg.txt\n"
     ]
    },
    {
     "data": {
      "text/plain": [
       "['35_deg.txt',\n",
       " '36_deg.txt',\n",
       " '37_deg.txt',\n",
       " '38_deg.txt',\n",
       " '39_deg.txt',\n",
       " '40_deg.txt',\n",
       " '41_deg.txt',\n",
       " '42_deg.txt',\n",
       " '43_deg.txt',\n",
       " '44_deg.txt',\n",
       " '45_deg.txt',\n",
       " '46_deg.txt',\n",
       " '47_deg.txt',\n",
       " '48_deg.txt',\n",
       " '49_deg.txt',\n",
       " '50_deg.txt',\n",
       " '52_deg.txt',\n",
       " '55_deg.txt',\n",
       " '58_deg.txt',\n",
       " '60_deg.txt',\n",
       " '62_deg.txt',\n",
       " '65_deg.txt',\n",
       " '68_deg.txt',\n",
       " '70_deg.txt',\n",
       " '71_deg.txt',\n",
       " '72_deg.txt',\n",
       " '73_deg.txt',\n",
       " '74_deg.txt',\n",
       " '75_deg.txt',\n",
       " '76_deg.txt',\n",
       " '77_deg.txt',\n",
       " '78_deg.txt',\n",
       " '79_deg.txt',\n",
       " '80_deg.txt',\n",
       " '81_deg.txt',\n",
       " '82_deg.txt',\n",
       " '83_deg.txt']"
      ]
     },
     "execution_count": 351,
     "metadata": {},
     "output_type": "execute_result"
    }
   ],
   "source": [
    "direc = '/Users/anthonygironda/Desktop/Rowland_Tracking/'\n",
    "dtype = 'txt'\n",
    "angle = 50\n",
    "file = direc + str(angle) + '_deg.' + dtype\n",
    "print(file)\n",
    "file_list(direc, dtype)\n",
    "#txt_to_list(\n",
    "directory = '/Users/anthonygironda/Desktop/Rowland_Tracking/'\n",
    "datatype = 'txt'\n",
    "files = filelist(directory, datatype)\n",
    "numfiles = len(files)"
   ]
  },
  {
   "cell_type": "code",
   "execution_count": null,
   "id": "2e0e26bd-8ca3-4f10-9813-3b72f3983d45",
   "metadata": {},
   "outputs": [],
   "source": []
  },
  {
   "cell_type": "code",
   "execution_count": null,
   "id": "cb12399b-c693-4780-a4a6-fba246737806",
   "metadata": {},
   "outputs": [],
   "source": []
  }
 ],
 "metadata": {
  "kernelspec": {
   "display_name": "Python 3 (ipykernel)",
   "language": "python",
   "name": "python3"
  },
  "language_info": {
   "codemirror_mode": {
    "name": "ipython",
    "version": 3
   },
   "file_extension": ".py",
   "mimetype": "text/x-python",
   "name": "python",
   "nbconvert_exporter": "python",
   "pygments_lexer": "ipython3",
   "version": "3.10.6"
  }
 },
 "nbformat": 4,
 "nbformat_minor": 5
}
