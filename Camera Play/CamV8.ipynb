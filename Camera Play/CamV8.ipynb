{
 "cells": [
  {
   "cell_type": "code",
   "execution_count": 28,
   "id": "a4641703-7c7a-4fdc-8a01-5b1ad0bd89ed",
   "metadata": {},
   "outputs": [
    {
     "name": "stdout",
     "output_type": "stream",
     "text": [
      "Pretty printing has been turned OFF\n"
     ]
    }
   ],
   "source": [
    "import numpy as np\n",
    "import os\n",
    "import pandas as pd\n",
    "import matplotlib as mpl\n",
    "from pathlib import Path\n",
    "from PIL import Image as im\n",
    "import matplotlib.pyplot as plt\n",
    "import matplotlib.image as mpimg\n",
    "from scipy import ndimage as ndi\n",
    "\n",
    "\n",
    "%matplotlib inline\n",
    "%pprint"
   ]
  },
  {
   "cell_type": "code",
   "execution_count": 29,
   "id": "ab853f28-1ad7-40ec-bf41-1aad8819c5db",
   "metadata": {},
   "outputs": [],
   "source": [
    "def file_list(directory, ftype):\n",
    "    allflist = sorted(os.listdir(directory))\n",
    "    flistlen = len(allflist)\n",
    "    flist = []\n",
    "    for x in range(flistlen):\n",
    "        if allflist[x].endswith(str(ftype)):\n",
    "            flist.append(allflist[x])\n",
    "    return flist\n",
    "\n",
    "def txt_to_list(file):\n",
    "    rows = []\n",
    "    processedrows = []\n",
    "\n",
    "    with open(file, 'r') as f:\n",
    "        listofrows = f.read().split('\\n')\n",
    "        f.close()\n",
    "\n",
    "    for i in range(len(listofrows)):\n",
    "        rowcrawler = []\n",
    "        rawrow = listofrows[i].split('\\t')\n",
    "        rowlength = len(rawrow)\n",
    "        for j in range(rowlength):\n",
    "            if rawrow[j] != '':\n",
    "                rowcrawler.append(int(rawrow[j]))\n",
    "        rows.append(rowcrawler)\n",
    "\n",
    "    #rows is a list of lists, where each entry (i.e. rows[0] is a list reading pixels horizontally across camera\n",
    "    #rows[5] is a list of each value of every pixel in the 6th row of the image\n",
    "    #rows[x] has ditched the empty value at the end of each list. But there are 257 rows, not 256. So I need to check that\n",
    "    #the last row is a real value and not junk\n",
    "\n",
    "    for j in range(len(rows)):\n",
    "        if bool(rows[j]):\n",
    "            processedrows.append(rows[j])\n",
    "        \n",
    "    # For example, consider:\n",
    "    #     1 2 3\n",
    "    #     4 5 6\n",
    "    #     7 8 9\n",
    "    # as a 3x3 pixel camera image. processedrows[0] = [1, 2, 3], and processedrows[2] = [7, 8, 9]\n",
    "    # processed processedrows[hz index][vt index] accesses that pixel, so processedrows[1][2] = 6\n",
    "    \n",
    "    return processedrows\n"
   ]
  },
  {
   "cell_type": "code",
   "execution_count": 30,
   "id": "18188b13-f554-4471-9d9a-b6287ae067b1",
   "metadata": {
    "tags": []
   },
   "outputs": [],
   "source": [
    "class xcam_image:\n",
    "    \n",
    "    rotation = 0\n",
    "    normalization = 1\n",
    "    pixsize = 55\n",
    "    picture = None\n",
    "    picsize = None\n",
    "    \n",
    "    def __init__(self, angle, listoflists):\n",
    "        self.angle = angle\n",
    "        self.listoflists = listoflists\n",
    "        self.rotation = 0\n",
    "        self.normalization = 1\n",
    "        self.pixsize\n",
    "        self.picture = _genImage()\n",
    "        \n",
    "    # def _function #only for internal functions, user shouldn't access those\n",
    "    \n",
    "    def get_name(self): \n",
    "        return (str(self.angle) + ' Degrees')\n",
    "    \n",
    "    def get_xpixct(self): \n",
    "        return (len(self.listoflists[0]))\n",
    "    def get_ypixct(self): return (len(self.listoflists))\n",
    "    def get_pixct(self): return (self.get_xpixct() * self.get_ypixct())\n",
    "    def get_dim(self): return str(self.get_xpixct()*self.pixsize) + ' um x ' + str(self.get_ypixct()*self.pixsize) + ' mm'\n",
    "    def get_res(self): return (self.get_xpixct(),self.get_ypixct())\n",
    "    def get_rot(self): return self.rotation\n",
    "    def get_norm(self): return self.normalization\n",
    "    def get_pixsize(self): return str(self.pixsize) + ' um'\n",
    "    def get_base_nparray(self): return np.array(self.listoflists, dtype=np.uint8)\n",
    "    def get_nparray(self): return np.rot90((self.get_base_nparray()*(int(255 / self.get_norm()))), int(self.get_rot()/90), (-1,0)) \n",
    "    def get_com(self): return ndi.center_of_mass(self.get_nparray())\n",
    "    def get_pic(self): return self.picture\n",
    "    def get_size(self): return self.picsize\n",
    "    def get_maxcounts(self):\n",
    "        maxcount = 0\n",
    "        xylist = self.listoflists\n",
    "        for x in range(len(xylist)):\n",
    "            for y in range(len(xylist[0])):\n",
    "                if xylist[x][y] > maxcount:\n",
    "                    maxcount = xylist[x][y]\n",
    "        return maxcount\n",
    "        \n",
    "    def set_pixsize(self, dim): self.pixsize = dim\n",
    "    def set_size(self, number): self.picsize = number\n",
    "    def set_norm(self, const): self.normalization = const\n",
    "    def set_norm_to_max(self): self.normalization = self.get_maxcounts()\n",
    "    def set_rot(self, n90): \n",
    "        '''\n",
    "        kaksn\n",
    "        '''\n",
    "        if (n90 in [0,90,180,270]): \n",
    "            self.rotation = n90 \n",
    "        else: \n",
    "            return print('Error: Rotate must be set to 0, 90, 180, or 270 degrees')\n",
    "    \n",
    "    #on the fence for how I want these two functions to work\n",
    "    def gen_pic(self):\n",
    "        self.picture = im.fromarray(self.get_nparray())\n",
    "        # display(self.picture) \n",
    "        return im.fromarray(self.get_nparray())\n",
    "    def show_pic(self):\n",
    "        self.gen_pic()\n",
    "        if (self.get_size() != None): self.picture = (self.get_pic()).resize(size=(self.get_size(), self.get_size()))\n",
    "        display(self.picture)\n",
    "        \n",
    "    "
   ]
  },
  {
   "cell_type": "code",
   "execution_count": 31,
   "id": "56371816-46b7-479b-923f-d8108fffe4a6",
   "metadata": {},
   "outputs": [
    {
     "ename": "IndentationError",
     "evalue": "expected an indented block after function definition on line 1 (604502251.py, line 2)",
     "output_type": "error",
     "traceback": [
      "\u001b[0;36m  Cell \u001b[0;32mIn [31], line 2\u001b[0;36m\u001b[0m\n\u001b[0;31m    d = '/Users/anthonygironda/Desktop/Rowland_Tracking/'\u001b[0m\n\u001b[0m    ^\u001b[0m\n\u001b[0;31mIndentationError\u001b[0m\u001b[0;31m:\u001b[0m expected an indented block after function definition on line 1\n"
     ]
    }
   ],
   "source": [
    "def xcam_helper(angle):\n",
    "d = '/Users/anthonygironda/Desktop/Rowland_Tracking/'\n",
    "typ = '.txt'\n",
    "flist = file_list(directory, ftype\n",
    "l = txt_to_list('/Users/anthonygironda/Desktop/Rowland_Tracking/40_deg.txt')\n",
    "\n",
    "                  #tiff file(?)\n",
    "def gen_xcam_set(directory, ftype):\n",
    "    flist = file_list(directory, ftype)\n",
    "    #some hardcoded jank right here but it works:\n",
    "    angles = []\n",
    "    for q in range(len(flist)):\n",
    "        angles.append(int((flist[q])[0] + (flist[q])[1]))\n",
    "    xcam_list = []\n",
    "    for q in range(len(flist)):\n",
    "        xcam_list.append(xcam_image(angles[q], txt_to_list(directory + flist[q])))\n",
    "    setcam = xcam_set(xcam_list)\n",
    "    return setcam"
   ]
  },
  {
   "cell_type": "code",
   "execution_count": 32,
   "id": "4d0787c3-2d20-4b78-8c63-32c4ad3e3167",
   "metadata": {},
   "outputs": [],
   "source": [
    "class xcam_set:\n",
    "    \n",
    "    globe_rotation = None\n",
    "    globe_normalization = None\n",
    "\n",
    "    def __init__(self, listofcamobj):\n",
    "        self.piclist = listofcamobj\n",
    "    \n",
    "    def get_len(self): return len(self.piclist)\n",
    "    def get_angles(self):\n",
    "        ang = []\n",
    "        for t in range(self.get_len()):\n",
    "            ang.append((self.piclist[t]).angle)\n",
    "        return ang\n",
    "    def get_com(self): return\n",
    "    \n",
    "    def norm(self):\n",
    "        for t in range(self.get_len()):\n",
    "            self.piclist[t].set_norm_to_max()\n",
    "            \n",
    "    def set_rot(self, n90):\n",
    "        if (n90 == 0 or n90 == 90 or n90 == 180 or n90 == 270): \n",
    "            self.globe_normalization = n90 \n",
    "            for t in range(self.get_len()):\n",
    "                self.piclist[t].set_rot(n90)\n",
    "        else: return print('Error: Rotate must be set to 0, 90, 180, or 270 degrees')\n",
    "\n",
    "    def set_norm_to_global_max(self):\n",
    "        gmax = 0\n",
    "        for t in range(self.get_len()):\n",
    "            imax = (self.piclist[t]).get_maxcounts()\n",
    "            if imax > gmax: gmax = imax\n",
    "        self.globe_normalization = gmax\n",
    "        for t in range(self.get_len()):\n",
    "            self.piclist[t].set_norm(gmax)\n",
    "        \n",
    "    def show_set(self):\n",
    "        for t in range(self.get_len()): self.piclist[t].show_pic()"
   ]
  },
  {
   "cell_type": "code",
   "execution_count": 33,
   "id": "e0d97857-9495-4aca-973f-09431fafc023",
   "metadata": {},
   "outputs": [],
   "source": [
    "\n",
    "def gen_xcam_set(directory, ftype):\n",
    "    flist = file_list(directory, ftype)\n",
    "    #some hardcoded jank right here but it works:\n",
    "    angles = []\n",
    "    for q in range(len(flist)):\n",
    "        angles.append(int((flist[q])[0] + (flist[q])[1]))\n",
    "    xcam_list = []\n",
    "    for q in range(len(flist)):\n",
    "        xcam_list.append(xcam_image(angles[q], txt_to_list(directory + flist[q])))\n",
    "    setcam = xcam_set(xcam_list)\n",
    "    return setcam"
   ]
  },
  {
   "cell_type": "code",
   "execution_count": 34,
   "id": "0b6f679f-db2e-4071-9f76-615d10913fc1",
   "metadata": {},
   "outputs": [],
   "source": [
    "d = '/Users/anthonygironda/Desktop/Rowland_Tracking/'\n",
    "typ = '.txt'\n",
    "l = txt_to_list('/Users/anthonygironda/Desktop/Rowland_Tracking/40_deg.txt')\n",
    "\n",
    "# p1 = xcam_image(70, l)\n",
    "# p1.get_base_nparray()\n",
    "# p1.set_norm(255)\n",
    "# p1.set_norm_to_max()\n",
    "# p1.show_pic()\n",
    "# deg80 = txt_to_list('/Users/anthonygironda/Desktop/Rowland_Tracking/80_deg.txt')\n",
    "# p2 = xcamimage(80, deg80)\n",
    "\n",
    "# p1.set_norm_to_max()\n",
    "# p1.set_rot(90)\n",
    "# p1.gen_pic()\n",
    "# # p2.gen_pic()\n",
    "\n"
   ]
  },
  {
   "cell_type": "code",
   "execution_count": 35,
   "id": "7fa13c0d-36d1-4e29-bd6e-09e12b49890b",
   "metadata": {},
   "outputs": [
    {
     "ename": "NameError",
     "evalue": "name '_genImage' is not defined",
     "output_type": "error",
     "traceback": [
      "\u001b[0;31m---------------------------------------------------------------------------\u001b[0m",
      "\u001b[0;31mNameError\u001b[0m                                 Traceback (most recent call last)",
      "Cell \u001b[0;32mIn [35], line 3\u001b[0m\n\u001b[1;32m      1\u001b[0m d \u001b[38;5;241m=\u001b[39m \u001b[38;5;124m'\u001b[39m\u001b[38;5;124m/Users/anthonygironda/Desktop/Rowland_Tracking/\u001b[39m\u001b[38;5;124m'\u001b[39m\n\u001b[1;32m      2\u001b[0m typ \u001b[38;5;241m=\u001b[39m \u001b[38;5;124m'\u001b[39m\u001b[38;5;124m.txt\u001b[39m\u001b[38;5;124m'\u001b[39m\n\u001b[0;32m----> 3\u001b[0m r_tracking \u001b[38;5;241m=\u001b[39m gen_xcam_set(d, typ)\n\u001b[1;32m      4\u001b[0m r_tracking\u001b[38;5;241m.\u001b[39mset_rot(\u001b[38;5;241m270\u001b[39m)\n\u001b[1;32m      5\u001b[0m \u001b[38;5;66;03m# r_tracking.show_set()\u001b[39;00m\n",
      "Cell \u001b[0;32mIn [33], line 9\u001b[0m, in \u001b[0;36mgen_xcam_set\u001b[0;34m(directory, ftype)\u001b[0m\n\u001b[1;32m      7\u001b[0m xcam_list \u001b[38;5;241m=\u001b[39m []\n\u001b[1;32m      8\u001b[0m \u001b[38;5;28;01mfor\u001b[39;00m q \u001b[38;5;129;01min\u001b[39;00m \u001b[38;5;28mrange\u001b[39m(\u001b[38;5;28mlen\u001b[39m(flist)):\n\u001b[0;32m----> 9\u001b[0m     xcam_list\u001b[38;5;241m.\u001b[39mappend(\u001b[43mxcam_image\u001b[49m\u001b[43m(\u001b[49m\u001b[43mangles\u001b[49m\u001b[43m[\u001b[49m\u001b[43mq\u001b[49m\u001b[43m]\u001b[49m\u001b[43m,\u001b[49m\u001b[43m \u001b[49m\u001b[43mtxt_to_list\u001b[49m\u001b[43m(\u001b[49m\u001b[43mdirectory\u001b[49m\u001b[43m \u001b[49m\u001b[38;5;241;43m+\u001b[39;49m\u001b[43m \u001b[49m\u001b[43mflist\u001b[49m\u001b[43m[\u001b[49m\u001b[43mq\u001b[49m\u001b[43m]\u001b[49m\u001b[43m)\u001b[49m\u001b[43m)\u001b[49m)\n\u001b[1;32m     10\u001b[0m setcam \u001b[38;5;241m=\u001b[39m xcam_set(xcam_list)\n\u001b[1;32m     11\u001b[0m \u001b[38;5;28;01mreturn\u001b[39;00m setcam\n",
      "Cell \u001b[0;32mIn [30], line 15\u001b[0m, in \u001b[0;36mxcam_image.__init__\u001b[0;34m(self, angle, listoflists)\u001b[0m\n\u001b[1;32m     13\u001b[0m \u001b[38;5;28mself\u001b[39m\u001b[38;5;241m.\u001b[39mnormalization \u001b[38;5;241m=\u001b[39m \u001b[38;5;241m1\u001b[39m\n\u001b[1;32m     14\u001b[0m \u001b[38;5;28mself\u001b[39m\u001b[38;5;241m.\u001b[39mpixsize\n\u001b[0;32m---> 15\u001b[0m \u001b[38;5;28mself\u001b[39m\u001b[38;5;241m.\u001b[39mpicture \u001b[38;5;241m=\u001b[39m \u001b[43m_genImage\u001b[49m()\n",
      "\u001b[0;31mNameError\u001b[0m: name '_genImage' is not defined"
     ]
    }
   ],
   "source": [
    "d = '/Users/anthonygironda/Desktop/Rowland_Tracking/'\n",
    "typ = '.txt'\n",
    "r_tracking = gen_xcam_set(d, typ)\n",
    "r_tracking.set_rot(270)\n",
    "# r_tracking.show_set()\n",
    "\n",
    "l = txt_to_list('/Users/anthonygironda/Desktop/Rowland_Tracking/81_deg.txt')\n",
    "p1 = xcam_image(40, l)\n",
    "p1.get_maxcounts()\n",
    "p1.set_norm(80)\n",
    "# p1.set_norm_to_max()\n",
    "p1.show_pic()\n",
    "# deg80 = txt_to_list('/Users/anthonygironda/Desktop/Rowland_Tracking/80_deg.txt')\n",
    "# p2 = xcamimage(80, deg80)\n",
    "\n",
    "# p1.set_norm_to_max()\n",
    "# p1.set_rot(90)\n",
    "# p1.gen_pic()\n",
    "# # p2.gen_pic()\n",
    "\n"
   ]
  },
  {
   "cell_type": "code",
   "execution_count": 36,
   "id": "fbad4d73-9cea-43db-9d1a-00996fba2749",
   "metadata": {},
   "outputs": [
    {
     "ename": "NameError",
     "evalue": "name '_genImage' is not defined",
     "output_type": "error",
     "traceback": [
      "\u001b[0;31m---------------------------------------------------------------------------\u001b[0m",
      "\u001b[0;31mNameError\u001b[0m                                 Traceback (most recent call last)",
      "Cell \u001b[0;32mIn [36], line 1\u001b[0m\n\u001b[0;32m----> 1\u001b[0m r_tracking \u001b[38;5;241m=\u001b[39m gen_xcam_set(d, typ)\n\u001b[1;32m      2\u001b[0m cam_list \u001b[38;5;241m=\u001b[39m r_tracking\u001b[38;5;241m.\u001b[39mpiclist\n\u001b[1;32m      3\u001b[0m ang \u001b[38;5;241m=\u001b[39m r_tracking\u001b[38;5;241m.\u001b[39mget_angles()\n",
      "Cell \u001b[0;32mIn [33], line 9\u001b[0m, in \u001b[0;36mgen_xcam_set\u001b[0;34m(directory, ftype)\u001b[0m\n\u001b[1;32m      7\u001b[0m xcam_list \u001b[38;5;241m=\u001b[39m []\n\u001b[1;32m      8\u001b[0m \u001b[38;5;28;01mfor\u001b[39;00m q \u001b[38;5;129;01min\u001b[39;00m \u001b[38;5;28mrange\u001b[39m(\u001b[38;5;28mlen\u001b[39m(flist)):\n\u001b[0;32m----> 9\u001b[0m     xcam_list\u001b[38;5;241m.\u001b[39mappend(\u001b[43mxcam_image\u001b[49m\u001b[43m(\u001b[49m\u001b[43mangles\u001b[49m\u001b[43m[\u001b[49m\u001b[43mq\u001b[49m\u001b[43m]\u001b[49m\u001b[43m,\u001b[49m\u001b[43m \u001b[49m\u001b[43mtxt_to_list\u001b[49m\u001b[43m(\u001b[49m\u001b[43mdirectory\u001b[49m\u001b[43m \u001b[49m\u001b[38;5;241;43m+\u001b[39;49m\u001b[43m \u001b[49m\u001b[43mflist\u001b[49m\u001b[43m[\u001b[49m\u001b[43mq\u001b[49m\u001b[43m]\u001b[49m\u001b[43m)\u001b[49m\u001b[43m)\u001b[49m)\n\u001b[1;32m     10\u001b[0m setcam \u001b[38;5;241m=\u001b[39m xcam_set(xcam_list)\n\u001b[1;32m     11\u001b[0m \u001b[38;5;28;01mreturn\u001b[39;00m setcam\n",
      "Cell \u001b[0;32mIn [30], line 15\u001b[0m, in \u001b[0;36mxcam_image.__init__\u001b[0;34m(self, angle, listoflists)\u001b[0m\n\u001b[1;32m     13\u001b[0m \u001b[38;5;28mself\u001b[39m\u001b[38;5;241m.\u001b[39mnormalization \u001b[38;5;241m=\u001b[39m \u001b[38;5;241m1\u001b[39m\n\u001b[1;32m     14\u001b[0m \u001b[38;5;28mself\u001b[39m\u001b[38;5;241m.\u001b[39mpixsize\n\u001b[0;32m---> 15\u001b[0m \u001b[38;5;28mself\u001b[39m\u001b[38;5;241m.\u001b[39mpicture \u001b[38;5;241m=\u001b[39m \u001b[43m_genImage\u001b[49m()\n",
      "\u001b[0;31mNameError\u001b[0m: name '_genImage' is not defined"
     ]
    }
   ],
   "source": [
    "r_tracking = gen_xcam_set(d, typ)\n",
    "cam_list = r_tracking.piclist\n",
    "ang = r_tracking.get_angles()\n",
    "com = []\n",
    "com_mm = []\n",
    "for k in range(len(cam_list)):\n",
    "    if ((k == 3) or (k == 36) or (k == 35)):\n",
    "        cam_list[k].set_norm(300)\n",
    "    else:\n",
    "        cam_list[k].set_norm_to_max()\n",
    "    cam_list[k].set_rot(270)\n",
    "    com.append((cam_list[k].get_com())[1])\n",
    "    com_mm.append(com[k] * .055)"
   ]
  },
  {
   "cell_type": "code",
   "execution_count": 37,
   "id": "23c22be3-2fe9-4a88-9603-62d5253b3380",
   "metadata": {},
   "outputs": [
    {
     "ename": "NameError",
     "evalue": "name 'ang' is not defined",
     "output_type": "error",
     "traceback": [
      "\u001b[0;31m---------------------------------------------------------------------------\u001b[0m",
      "\u001b[0;31mNameError\u001b[0m                                 Traceback (most recent call last)",
      "Cell \u001b[0;32mIn [37], line 2\u001b[0m\n\u001b[1;32m      1\u001b[0m fig, ax \u001b[38;5;241m=\u001b[39m plt\u001b[38;5;241m.\u001b[39msubplots(figsize \u001b[38;5;241m=\u001b[39m (\u001b[38;5;241m6\u001b[39m,\u001b[38;5;241m4\u001b[39m))\n\u001b[0;32m----> 2\u001b[0m ax\u001b[38;5;241m.\u001b[39mscatter(ang, com, linewidth\u001b[38;5;241m=\u001b[39m\u001b[38;5;241m2.0\u001b[39m)\n\u001b[1;32m      3\u001b[0m ax\u001b[38;5;241m.\u001b[39mset_xlabel(\u001b[38;5;124m'\u001b[39m\u001b[38;5;124mBragg Angle\u001b[39m\u001b[38;5;124m'\u001b[39m)\n\u001b[1;32m      4\u001b[0m ax\u001b[38;5;241m.\u001b[39mset_ylabel(\u001b[38;5;124m'\u001b[39m\u001b[38;5;124mX-Coord Center of Mass (Pixel)\u001b[39m\u001b[38;5;124m'\u001b[39m)\n",
      "\u001b[0;31mNameError\u001b[0m: name 'ang' is not defined"
     ]
    },
    {
     "data": {
      "image/png": "[encoded data removed]",
      "text/plain": [
       "<Figure size 600x400 with 1 Axes>"
      ]
     },
     "metadata": {},
     "output_type": "display_data"
    }
   ],
   "source": [
    "fig, ax = plt.subplots(figsize = (6,4))\n",
    "ax.scatter(ang, com, linewidth=2.0)\n",
    "ax.set_xlabel('Bragg Angle')\n",
    "ax.set_ylabel('X-Coord Center of Mass (Pixel)')\n",
    "ax.grid(True)\n",
    "\n",
    "fig2, ax2 = plt.subplots(figsize = (6,4))\n",
    "ax2.scatter(ang, com_mm, linewidth=2.0)\n",
    "ax2.set_xlabel('Bragg Angle')\n",
    "ax2.set_ylabel('X-Coord Center of Mass (mm)')\n",
    "ax2.grid(True)\n",
    "\n",
    "#camera is about 14mm x 14mm"
   ]
  },
  {
   "cell_type": "code",
   "execution_count": 38,
   "id": "3658ddd9-6f64-4d33-8143-2c3f1431ac59",
   "metadata": {},
   "outputs": [
    {
     "name": "stdout",
     "output_type": "stream",
     "text": [
      "['35_deg.txt', '36_deg.txt', '37_deg.txt', '38_deg.txt', '39_deg.txt', '40_deg.txt', '41_deg.txt', '42_deg.txt', '43_deg.txt', '44_deg.txt', '45_deg.txt', '46_deg.txt', '47_deg.txt', '48_deg.txt', '49_deg.txt', '50_deg.txt', '52_deg.txt', '55_deg.txt', '58_deg.txt', '60_deg.txt', '62_deg.txt', '65_deg.txt', '68_deg.txt', '70_deg.txt', '71_deg.txt', '72_deg.txt', '73_deg.txt', '74_deg.txt', '75_deg.txt', '76_deg.txt', '77_deg.txt', '78_deg.txt', '79_deg.txt', '80_deg.txt', '81_deg.txt', '82_deg.txt', '83_deg.txt']\n"
     ]
    },
    {
     "ename": "NameError",
     "evalue": "name '_genImage' is not defined",
     "output_type": "error",
     "traceback": [
      "\u001b[0;31m---------------------------------------------------------------------------\u001b[0m",
      "\u001b[0;31mNameError\u001b[0m                                 Traceback (most recent call last)",
      "Cell \u001b[0;32mIn [38], line 4\u001b[0m\n\u001b[1;32m      1\u001b[0m \u001b[38;5;28mprint\u001b[39m(\u001b[38;5;28mlist\u001b[39m(file_list(d, typ)))\n\u001b[1;32m      3\u001b[0m pic \u001b[38;5;241m=\u001b[39m txt_to_list(\u001b[38;5;124m'\u001b[39m\u001b[38;5;124m/Users/anthonygironda/Desktop/Rowland_Tracking/55_deg.txt\u001b[39m\u001b[38;5;124m'\u001b[39m)\n\u001b[0;32m----> 4\u001b[0m p1 \u001b[38;5;241m=\u001b[39m xcam_image(\u001b[38;5;241m55\u001b[39m, pic)\n\u001b[1;32m      5\u001b[0m p1\u001b[38;5;241m.\u001b[39mset_norm(\u001b[38;5;241m10\u001b[39m)\n\u001b[1;32m      6\u001b[0m \u001b[38;5;66;03m# p1.set_norm_to_max()\u001b[39;00m\n",
      "Cell \u001b[0;32mIn [30], line 15\u001b[0m, in \u001b[0;36mxcam_image.__init__\u001b[0;34m(self, angle, listoflists)\u001b[0m\n\u001b[1;32m     13\u001b[0m \u001b[38;5;28mself\u001b[39m\u001b[38;5;241m.\u001b[39mnormalization \u001b[38;5;241m=\u001b[39m \u001b[38;5;241m1\u001b[39m\n\u001b[1;32m     14\u001b[0m \u001b[38;5;28mself\u001b[39m\u001b[38;5;241m.\u001b[39mpixsize\n\u001b[0;32m---> 15\u001b[0m \u001b[38;5;28mself\u001b[39m\u001b[38;5;241m.\u001b[39mpicture \u001b[38;5;241m=\u001b[39m \u001b[43m_genImage\u001b[49m()\n",
      "\u001b[0;31mNameError\u001b[0m: name '_genImage' is not defined"
     ]
    }
   ],
   "source": [
    "print(list(file_list(d, typ)))\n",
    "\n",
    "pic = txt_to_list('/Users/anthonygironda/Desktop/Rowland_Tracking/55_deg.txt')\n",
    "p1 = xcam_image(55, pic)\n",
    "p1.set_norm(10)\n",
    "# p1.set_norm_to_max()\n",
    "p1.set_rot(90)\n",
    "p1.show_pic()\n",
    "\n",
    "\n",
    "# pic2 = txt_to_list('/Users/anthonygironda/Desktop/Rowland_Tracking/70_deg.txt')\n",
    "# p2 = xcam_image(70, pic2)\n",
    "# p2.set_norm_to_max()\n",
    "# p2.set_rot(270)\n",
    "# p2.show_pic()\n",
    "\n",
    "# pic3 = txt_to_list('/Users/anthonygironda/Desktop/Rowland_Tracking/80_deg.txt')\n",
    "# p3 = xcam_image(80, pic3)\n",
    "# p3.set_norm_to_max()\n",
    "# p3.set_rot(270)\n",
    "# p3.show_pic()"
   ]
  },
  {
   "cell_type": "code",
   "execution_count": 39,
   "id": "7902bee3-4b56-45f0-b213-838e69b6a8b2",
   "metadata": {},
   "outputs": [
    {
     "ename": "NameError",
     "evalue": "name 'cam_list' is not defined",
     "output_type": "error",
     "traceback": [
      "\u001b[0;31m---------------------------------------------------------------------------\u001b[0m",
      "\u001b[0;31mNameError\u001b[0m                                 Traceback (most recent call last)",
      "Cell \u001b[0;32mIn [39], line 1\u001b[0m\n\u001b[0;32m----> 1\u001b[0m \u001b[38;5;28;01mfor\u001b[39;00m k \u001b[38;5;129;01min\u001b[39;00m \u001b[38;5;28mrange\u001b[39m(\u001b[38;5;28mlen\u001b[39m(cam_list)):\n\u001b[1;32m      2\u001b[0m     cam_list[k]\u001b[38;5;241m.\u001b[39mshow_pic()\n",
      "\u001b[0;31mNameError\u001b[0m: name 'cam_list' is not defined"
     ]
    }
   ],
   "source": [
    "for k in range(len(cam_list)):\n",
    "    cam_list[k].show_pic()"
   ]
  },
  {
   "cell_type": "code",
   "execution_count": 40,
   "id": "ffde22d9-3605-4c87-b4f0-e5e2587f01f3",
   "metadata": {},
   "outputs": [
    {
     "ename": "NameError",
     "evalue": "name 'p1' is not defined",
     "output_type": "error",
     "traceback": [
      "\u001b[0;31m---------------------------------------------------------------------------\u001b[0m",
      "\u001b[0;31mNameError\u001b[0m                                 Traceback (most recent call last)",
      "Cell \u001b[0;32mIn [40], line 1\u001b[0m\n\u001b[0;32m----> 1\u001b[0m p1\u001b[38;5;241m.\u001b[39mshow_pic()\n",
      "\u001b[0;31mNameError\u001b[0m: name 'p1' is not defined"
     ]
    }
   ],
   "source": [
    "p1.show_pic()"
   ]
  },
  {
   "cell_type": "code",
   "execution_count": 41,
   "id": "9073c5c9-0435-4f92-9739-dc2c49ec7884",
   "metadata": {},
   "outputs": [
    {
     "ename": "NameError",
     "evalue": "name 'p1' is not defined",
     "output_type": "error",
     "traceback": [
      "\u001b[0;31m---------------------------------------------------------------------------\u001b[0m",
      "\u001b[0;31mNameError\u001b[0m                                 Traceback (most recent call last)",
      "Cell \u001b[0;32mIn [41], line 1\u001b[0m\n\u001b[0;32m----> 1\u001b[0m p1\u001b[38;5;241m.\u001b[39mshow_pic()\n",
      "\u001b[0;31mNameError\u001b[0m: name 'p1' is not defined"
     ]
    }
   ],
   "source": [
    "p1.show_pic()"
   ]
  },
  {
   "cell_type": "code",
   "execution_count": 42,
   "id": "9a35a99b-0ae2-4a7b-b8bb-a3c12b689145",
   "metadata": {},
   "outputs": [
    {
     "ename": "NameError",
     "evalue": "name 'p1' is not defined",
     "output_type": "error",
     "traceback": [
      "\u001b[0;31m---------------------------------------------------------------------------\u001b[0m",
      "\u001b[0;31mNameError\u001b[0m                                 Traceback (most recent call last)",
      "Cell \u001b[0;32mIn [42], line 1\u001b[0m\n\u001b[0;32m----> 1\u001b[0m a\u001b[38;5;241m=\u001b[39m p1\u001b[38;5;241m.\u001b[39mget_nparray()\n\u001b[1;32m      2\u001b[0m ndi\u001b[38;5;241m.\u001b[39mcenter_of_mass(a)\n",
      "\u001b[0;31mNameError\u001b[0m: name 'p1' is not defined"
     ]
    }
   ],
   "source": [
    "a= p1.get_nparray()\n",
    "ndi.center_of_mass(a)\n"
   ]
  },
  {
   "cell_type": "code",
   "execution_count": 43,
   "id": "41aaee99-8304-4eb2-a149-4e4cd3d864a5",
   "metadata": {},
   "outputs": [
    {
     "ename": "NameError",
     "evalue": "name 'camimage' is not defined",
     "output_type": "error",
     "traceback": [
      "\u001b[0;31m---------------------------------------------------------------------------\u001b[0m",
      "\u001b[0;31mNameError\u001b[0m                                 Traceback (most recent call last)",
      "Cell \u001b[0;32mIn [43], line 2\u001b[0m\n\u001b[1;32m      1\u001b[0m y \u001b[38;5;241m=\u001b[39m [[\u001b[38;5;241m1\u001b[39m,\u001b[38;5;241m2\u001b[39m,\u001b[38;5;241m3\u001b[39m],[\u001b[38;5;241m4\u001b[39m,\u001b[38;5;241m5\u001b[39m,\u001b[38;5;241m6\u001b[39m],[\u001b[38;5;241m7\u001b[39m,\u001b[38;5;241m8\u001b[39m,\u001b[38;5;241m9\u001b[39m]]\n\u001b[0;32m----> 2\u001b[0m testy \u001b[38;5;241m=\u001b[39m camimage(\u001b[38;5;241m50\u001b[39m, y)\n\u001b[1;32m      3\u001b[0m testy\u001b[38;5;241m.\u001b[39mgen_pic()\n",
      "\u001b[0;31mNameError\u001b[0m: name 'camimage' is not defined"
     ]
    }
   ],
   "source": [
    "y = [[1,2,3],[4,5,6],[7,8,9]]\n",
    "testy = camimage(50, y)\n",
    "testy.gen_pic()"
   ]
  },
  {
   "cell_type": "code",
   "execution_count": null,
   "id": "3a6aeea6-2d5c-483c-b13c-d27cb0777401",
   "metadata": {},
   "outputs": [],
   "source": []
  },
  {
   "cell_type": "code",
   "execution_count": 44,
   "id": "c83e64d4-6c4f-4caf-9151-f2cc4e099adc",
   "metadata": {},
   "outputs": [
    {
     "ename": "NameError",
     "evalue": "name 'testy' is not defined",
     "output_type": "error",
     "traceback": [
      "\u001b[0;31m---------------------------------------------------------------------------\u001b[0m",
      "\u001b[0;31mNameError\u001b[0m                                 Traceback (most recent call last)",
      "Cell \u001b[0;32mIn [44], line 1\u001b[0m\n\u001b[0;32m----> 1\u001b[0m \u001b[38;5;28mprint\u001b[39m(testy\u001b[38;5;241m.\u001b[39mget_name())\n\u001b[1;32m      2\u001b[0m \u001b[38;5;28mprint\u001b[39m(testy\u001b[38;5;241m.\u001b[39mget_xpixct())\n\u001b[1;32m      3\u001b[0m \u001b[38;5;28mprint\u001b[39m(testy\u001b[38;5;241m.\u001b[39mget_ypixct())\n",
      "\u001b[0;31mNameError\u001b[0m: name 'testy' is not defined"
     ]
    }
   ],
   "source": [
    "print(testy.get_name())\n",
    "print(testy.get_xpixct())\n",
    "print(testy.get_ypixct())\n",
    "print(testy.get_pixct())\n",
    "print(testy.get_dim())\n",
    "print(testy.get_res())\n",
    "print(testy.get_rot())\n",
    "print(testy.get_norm())\n",
    "print(testy.get_pixsize())\n",
    "print(testy.get_maxcounts())\n"
   ]
  },
  {
   "cell_type": "code",
   "execution_count": 45,
   "id": "3380a631-c2f0-481d-9e5e-a0613d29598e",
   "metadata": {},
   "outputs": [
    {
     "ename": "NameError",
     "evalue": "name 'testy' is not defined",
     "output_type": "error",
     "traceback": [
      "\u001b[0;31m---------------------------------------------------------------------------\u001b[0m",
      "\u001b[0;31mNameError\u001b[0m                                 Traceback (most recent call last)",
      "Cell \u001b[0;32mIn [45], line 1\u001b[0m\n\u001b[0;32m----> 1\u001b[0m testy\u001b[38;5;241m.\u001b[39mset_norm(\u001b[38;5;241m10\u001b[39m)\n\u001b[1;32m      2\u001b[0m testy\u001b[38;5;241m.\u001b[39mset_rot(\u001b[38;5;241m90\u001b[39m)\n\u001b[1;32m      3\u001b[0m testy\u001b[38;5;241m.\u001b[39mset_pixsize(\u001b[38;5;241m55\u001b[39m)\n",
      "\u001b[0;31mNameError\u001b[0m: name 'testy' is not defined"
     ]
    }
   ],
   "source": [
    "testy.set_norm(10)\n",
    "testy.set_rot(90)\n",
    "testy.set_pixsize(55)\n",
    "testy.set_norm_to_max()"
   ]
  },
  {
   "cell_type": "code",
   "execution_count": 46,
   "id": "5cf11f24-038c-4429-b52e-dd401de10738",
   "metadata": {},
   "outputs": [
    {
     "ename": "NameError",
     "evalue": "name 'camimage' is not defined",
     "output_type": "error",
     "traceback": [
      "\u001b[0;31m---------------------------------------------------------------------------\u001b[0m",
      "\u001b[0;31mNameError\u001b[0m                                 Traceback (most recent call last)",
      "Cell \u001b[0;32mIn [46], line 2\u001b[0m\n\u001b[1;32m      1\u001b[0m deg40 \u001b[38;5;241m=\u001b[39m txt_to_list(\u001b[38;5;124m'\u001b[39m\u001b[38;5;124m/Users/anthonygironda/Desktop/Rowland_Tracking/40_deg.txt\u001b[39m\u001b[38;5;124m'\u001b[39m)\n\u001b[0;32m----> 2\u001b[0m p1 \u001b[38;5;241m=\u001b[39m camimage(\u001b[38;5;241m40\u001b[39m, deg40)\n\u001b[1;32m      3\u001b[0m deg80 \u001b[38;5;241m=\u001b[39m txt_to_list(\u001b[38;5;124m'\u001b[39m\u001b[38;5;124m/Users/anthonygironda/Desktop/Rowland_Tracking/80_deg.txt\u001b[39m\u001b[38;5;124m'\u001b[39m)\n\u001b[1;32m      4\u001b[0m p2 \u001b[38;5;241m=\u001b[39m camimage(\u001b[38;5;241m80\u001b[39m, deg80)\n",
      "\u001b[0;31mNameError\u001b[0m: name 'camimage' is not defined"
     ]
    }
   ],
   "source": [
    "deg40 = txt_to_list('/Users/anthonygironda/Desktop/Rowland_Tracking/40_deg.txt')\n",
    "p1 = camimage(40, deg40)\n",
    "deg80 = txt_to_list('/Users/anthonygironda/Desktop/Rowland_Tracking/80_deg.txt')\n",
    "p2 = camimage(80, deg80)\n",
    "\n",
    "p1.pic()"
   ]
  },
  {
   "cell_type": "code",
   "execution_count": 47,
   "id": "a2e0152f-8276-4b11-9d6c-1a0dc7dd2db2",
   "metadata": {},
   "outputs": [
    {
     "ename": "NameError",
     "evalue": "name 'camimage' is not defined",
     "output_type": "error",
     "traceback": [
      "\u001b[0;31m---------------------------------------------------------------------------\u001b[0m",
      "\u001b[0;31mNameError\u001b[0m                                 Traceback (most recent call last)",
      "Cell \u001b[0;32mIn [47], line 2\u001b[0m\n\u001b[1;32m      1\u001b[0m deg40 \u001b[38;5;241m=\u001b[39m txt_to_list(\u001b[38;5;124m'\u001b[39m\u001b[38;5;124m/Users/anthonygironda/Desktop/Rowland_Tracking/83_deg.txt\u001b[39m\u001b[38;5;124m'\u001b[39m)\n\u001b[0;32m----> 2\u001b[0m p1 \u001b[38;5;241m=\u001b[39m camimage(\u001b[38;5;241m80\u001b[39m, deg40)\n\u001b[1;32m      3\u001b[0m p1\u001b[38;5;241m.\u001b[39mpic()\n\u001b[1;32m      4\u001b[0m p1\u001b[38;5;241m.\u001b[39mset_rot(\u001b[38;5;241m90\u001b[39m)\n",
      "\u001b[0;31mNameError\u001b[0m: name 'camimage' is not defined"
     ]
    }
   ],
   "source": [
    "deg40 = txt_to_list('/Users/anthonygironda/Desktop/Rowland_Tracking/83_deg.txt')\n",
    "p1 = camimage(80, deg40)\n",
    "p1.pic()\n",
    "p1.set_rot(90)\n",
    "p1.pic()\n",
    "# im.fromarray(p1.p1.rotate(90)imagearray)\n",
    "img = p1.pic()\n",
    "img.resize(size=(400, 400))\n"
   ]
  },
  {
   "cell_type": "code",
   "execution_count": null,
   "id": "2e0e26bd-8ca3-4f10-9813-3b72f3983d45",
   "metadata": {},
   "outputs": [],
   "source": []
  },
  {
   "cell_type": "code",
   "execution_count": null,
   "id": "cb12399b-c693-4780-a4a6-fba246737806",
   "metadata": {},
   "outputs": [],
   "source": []
  }
 ],
 "metadata": {
  "kernelspec": {
   "display_name": "Python 3 (ipykernel)",
   "language": "python",
   "name": "python3"
  },
  "language_info": {
   "codemirror_mode": {
    "name": "ipython",
    "version": 3
   },
   "file_extension": ".py",
   "mimetype": "text/x-python",
   "name": "python",
   "nbconvert_exporter": "python",
   "pygments_lexer": "ipython3",
   "version": "3.10.6"
  }
 },
 "nbformat": 4,
 "nbformat_minor": 5
}
